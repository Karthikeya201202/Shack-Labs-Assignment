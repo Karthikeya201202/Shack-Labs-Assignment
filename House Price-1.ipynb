{
 "cells": [
  {
   "cell_type": "code",
   "execution_count": 4,
   "id": "8da14697",
   "metadata": {},
   "outputs": [],
   "source": [
    "import pandas as pd\n",
    "import numpy as np\n",
    "import matplotlib.pyplot as plt\n",
    "import seaborn as sns\n",
    "%matplotlib inline"
   ]
  },
  {
   "cell_type": "code",
   "execution_count": 5,
   "id": "bc854208",
   "metadata": {},
   "outputs": [
    {
     "data": {
      "text/html": [
       "<div>\n",
       "<style scoped>\n",
       "    .dataframe tbody tr th:only-of-type {\n",
       "        vertical-align: middle;\n",
       "    }\n",
       "\n",
       "    .dataframe tbody tr th {\n",
       "        vertical-align: top;\n",
       "    }\n",
       "\n",
       "    .dataframe thead th {\n",
       "        text-align: right;\n",
       "    }\n",
       "</style>\n",
       "<table border=\"1\" class=\"dataframe\">\n",
       "  <thead>\n",
       "    <tr style=\"text-align: right;\">\n",
       "      <th></th>\n",
       "      <th>Transaction date</th>\n",
       "      <th>House Age</th>\n",
       "      <th>Distance from nearest Metro station (km)</th>\n",
       "      <th>Number of convenience stores</th>\n",
       "      <th>latitude</th>\n",
       "      <th>longitude</th>\n",
       "      <th>Number of bedrooms</th>\n",
       "      <th>House size (sqft)</th>\n",
       "      <th>House price of unit area</th>\n",
       "    </tr>\n",
       "  </thead>\n",
       "  <tbody>\n",
       "    <tr>\n",
       "      <th>0</th>\n",
       "      <td>2012.916667</td>\n",
       "      <td>32.0</td>\n",
       "      <td>84.87882</td>\n",
       "      <td>10</td>\n",
       "      <td>24.98298</td>\n",
       "      <td>121.54024</td>\n",
       "      <td>1</td>\n",
       "      <td>575</td>\n",
       "      <td>37.9</td>\n",
       "    </tr>\n",
       "    <tr>\n",
       "      <th>1</th>\n",
       "      <td>2012.916667</td>\n",
       "      <td>19.5</td>\n",
       "      <td>306.59470</td>\n",
       "      <td>9</td>\n",
       "      <td>24.98034</td>\n",
       "      <td>121.53951</td>\n",
       "      <td>2</td>\n",
       "      <td>1240</td>\n",
       "      <td>42.2</td>\n",
       "    </tr>\n",
       "    <tr>\n",
       "      <th>2</th>\n",
       "      <td>2013.583333</td>\n",
       "      <td>13.3</td>\n",
       "      <td>561.98450</td>\n",
       "      <td>5</td>\n",
       "      <td>24.98746</td>\n",
       "      <td>121.54391</td>\n",
       "      <td>3</td>\n",
       "      <td>1060</td>\n",
       "      <td>47.3</td>\n",
       "    </tr>\n",
       "    <tr>\n",
       "      <th>3</th>\n",
       "      <td>2013.500000</td>\n",
       "      <td>13.3</td>\n",
       "      <td>561.98450</td>\n",
       "      <td>5</td>\n",
       "      <td>24.98746</td>\n",
       "      <td>121.54391</td>\n",
       "      <td>2</td>\n",
       "      <td>875</td>\n",
       "      <td>54.8</td>\n",
       "    </tr>\n",
       "    <tr>\n",
       "      <th>4</th>\n",
       "      <td>2012.833333</td>\n",
       "      <td>5.0</td>\n",
       "      <td>390.56840</td>\n",
       "      <td>5</td>\n",
       "      <td>24.97937</td>\n",
       "      <td>121.54245</td>\n",
       "      <td>1</td>\n",
       "      <td>491</td>\n",
       "      <td>43.1</td>\n",
       "    </tr>\n",
       "    <tr>\n",
       "      <th>5</th>\n",
       "      <td>2012.666667</td>\n",
       "      <td>7.1</td>\n",
       "      <td>2175.03000</td>\n",
       "      <td>3</td>\n",
       "      <td>24.96305</td>\n",
       "      <td>121.51254</td>\n",
       "      <td>3</td>\n",
       "      <td>828</td>\n",
       "      <td>32.1</td>\n",
       "    </tr>\n",
       "    <tr>\n",
       "      <th>6</th>\n",
       "      <td>2012.666667</td>\n",
       "      <td>34.5</td>\n",
       "      <td>623.47310</td>\n",
       "      <td>7</td>\n",
       "      <td>24.97933</td>\n",
       "      <td>121.53642</td>\n",
       "      <td>3</td>\n",
       "      <td>1115</td>\n",
       "      <td>40.3</td>\n",
       "    </tr>\n",
       "    <tr>\n",
       "      <th>7</th>\n",
       "      <td>2013.416667</td>\n",
       "      <td>20.3</td>\n",
       "      <td>287.60250</td>\n",
       "      <td>6</td>\n",
       "      <td>24.98042</td>\n",
       "      <td>121.54228</td>\n",
       "      <td>3</td>\n",
       "      <td>1316</td>\n",
       "      <td>46.7</td>\n",
       "    </tr>\n",
       "    <tr>\n",
       "      <th>8</th>\n",
       "      <td>2013.500000</td>\n",
       "      <td>31.7</td>\n",
       "      <td>5512.03800</td>\n",
       "      <td>1</td>\n",
       "      <td>24.95095</td>\n",
       "      <td>121.48458</td>\n",
       "      <td>1</td>\n",
       "      <td>588</td>\n",
       "      <td>18.8</td>\n",
       "    </tr>\n",
       "    <tr>\n",
       "      <th>9</th>\n",
       "      <td>2013.416667</td>\n",
       "      <td>17.9</td>\n",
       "      <td>1783.18000</td>\n",
       "      <td>3</td>\n",
       "      <td>24.96731</td>\n",
       "      <td>121.51486</td>\n",
       "      <td>2</td>\n",
       "      <td>1075</td>\n",
       "      <td>22.1</td>\n",
       "    </tr>\n",
       "  </tbody>\n",
       "</table>\n",
       "</div>"
      ],
      "text/plain": [
       "   Transaction date  House Age  Distance from nearest Metro station (km)  \\\n",
       "0       2012.916667       32.0                                  84.87882   \n",
       "1       2012.916667       19.5                                 306.59470   \n",
       "2       2013.583333       13.3                                 561.98450   \n",
       "3       2013.500000       13.3                                 561.98450   \n",
       "4       2012.833333        5.0                                 390.56840   \n",
       "5       2012.666667        7.1                                2175.03000   \n",
       "6       2012.666667       34.5                                 623.47310   \n",
       "7       2013.416667       20.3                                 287.60250   \n",
       "8       2013.500000       31.7                                5512.03800   \n",
       "9       2013.416667       17.9                                1783.18000   \n",
       "\n",
       "   Number of convenience stores  latitude  longitude  Number of bedrooms  \\\n",
       "0                            10  24.98298  121.54024                   1   \n",
       "1                             9  24.98034  121.53951                   2   \n",
       "2                             5  24.98746  121.54391                   3   \n",
       "3                             5  24.98746  121.54391                   2   \n",
       "4                             5  24.97937  121.54245                   1   \n",
       "5                             3  24.96305  121.51254                   3   \n",
       "6                             7  24.97933  121.53642                   3   \n",
       "7                             6  24.98042  121.54228                   3   \n",
       "8                             1  24.95095  121.48458                   1   \n",
       "9                             3  24.96731  121.51486                   2   \n",
       "\n",
       "   House size (sqft)  House price of unit area  \n",
       "0                575                      37.9  \n",
       "1               1240                      42.2  \n",
       "2               1060                      47.3  \n",
       "3                875                      54.8  \n",
       "4                491                      43.1  \n",
       "5                828                      32.1  \n",
       "6               1115                      40.3  \n",
       "7               1316                      46.7  \n",
       "8                588                      18.8  \n",
       "9               1075                      22.1  "
      ]
     },
     "execution_count": 5,
     "metadata": {},
     "output_type": "execute_result"
    }
   ],
   "source": [
    "df= pd.read_excel(r\"C:\\\\Users\\\\yedla\\\\Dropbox\\\\PC\\\\Documents\\\\DATA_SCI.ML\\\\Project\\\\DS - Assignment Part 1 data set.xlsx\")\n",
    "df.head(10)"
   ]
  },
  {
   "cell_type": "code",
   "execution_count": 6,
   "id": "a493d770",
   "metadata": {},
   "outputs": [
    {
     "data": {
      "text/plain": [
       "(414, 9)"
      ]
     },
     "execution_count": 6,
     "metadata": {},
     "output_type": "execute_result"
    }
   ],
   "source": [
    "df.shape"
   ]
  },
  {
   "cell_type": "code",
   "execution_count": 7,
   "id": "1bc3fa3d",
   "metadata": {},
   "outputs": [
    {
     "name": "stdout",
     "output_type": "stream",
     "text": [
      "<class 'pandas.core.frame.DataFrame'>\n",
      "RangeIndex: 414 entries, 0 to 413\n",
      "Data columns (total 9 columns):\n",
      " #   Column                                    Non-Null Count  Dtype  \n",
      "---  ------                                    --------------  -----  \n",
      " 0   Transaction date                          414 non-null    float64\n",
      " 1   House Age                                 414 non-null    float64\n",
      " 2   Distance from nearest Metro station (km)  414 non-null    float64\n",
      " 3   Number of convenience stores              414 non-null    int64  \n",
      " 4   latitude                                  414 non-null    float64\n",
      " 5   longitude                                 414 non-null    float64\n",
      " 6   Number of bedrooms                        414 non-null    int64  \n",
      " 7   House size (sqft)                         414 non-null    int64  \n",
      " 8   House price of unit area                  414 non-null    float64\n",
      "dtypes: float64(6), int64(3)\n",
      "memory usage: 29.2 KB\n"
     ]
    }
   ],
   "source": [
    "df.info()"
   ]
  },
  {
   "cell_type": "code",
   "execution_count": 8,
   "id": "adb67e8e",
   "metadata": {},
   "outputs": [
    {
     "data": {
      "text/html": [
       "<div>\n",
       "<style scoped>\n",
       "    .dataframe tbody tr th:only-of-type {\n",
       "        vertical-align: middle;\n",
       "    }\n",
       "\n",
       "    .dataframe tbody tr th {\n",
       "        vertical-align: top;\n",
       "    }\n",
       "\n",
       "    .dataframe thead th {\n",
       "        text-align: right;\n",
       "    }\n",
       "</style>\n",
       "<table border=\"1\" class=\"dataframe\">\n",
       "  <thead>\n",
       "    <tr style=\"text-align: right;\">\n",
       "      <th></th>\n",
       "      <th>Transaction date</th>\n",
       "      <th>House Age</th>\n",
       "      <th>Distance from nearest Metro station (km)</th>\n",
       "      <th>Number of convenience stores</th>\n",
       "      <th>latitude</th>\n",
       "      <th>longitude</th>\n",
       "      <th>Number of bedrooms</th>\n",
       "      <th>House size (sqft)</th>\n",
       "      <th>House price of unit area</th>\n",
       "    </tr>\n",
       "  </thead>\n",
       "  <tbody>\n",
       "    <tr>\n",
       "      <th>count</th>\n",
       "      <td>414.000000</td>\n",
       "      <td>414.000000</td>\n",
       "      <td>414.000000</td>\n",
       "      <td>414.000000</td>\n",
       "      <td>414.000000</td>\n",
       "      <td>414.000000</td>\n",
       "      <td>414.000000</td>\n",
       "      <td>414.000000</td>\n",
       "      <td>414.000000</td>\n",
       "    </tr>\n",
       "    <tr>\n",
       "      <th>mean</th>\n",
       "      <td>2013.148953</td>\n",
       "      <td>17.712560</td>\n",
       "      <td>1083.885689</td>\n",
       "      <td>4.094203</td>\n",
       "      <td>24.969030</td>\n",
       "      <td>121.533361</td>\n",
       "      <td>1.987923</td>\n",
       "      <td>931.475845</td>\n",
       "      <td>37.980193</td>\n",
       "    </tr>\n",
       "    <tr>\n",
       "      <th>std</th>\n",
       "      <td>0.281995</td>\n",
       "      <td>11.392485</td>\n",
       "      <td>1262.109595</td>\n",
       "      <td>2.945562</td>\n",
       "      <td>0.012410</td>\n",
       "      <td>0.015347</td>\n",
       "      <td>0.818875</td>\n",
       "      <td>348.910269</td>\n",
       "      <td>13.606488</td>\n",
       "    </tr>\n",
       "    <tr>\n",
       "      <th>min</th>\n",
       "      <td>2012.666667</td>\n",
       "      <td>0.000000</td>\n",
       "      <td>23.382840</td>\n",
       "      <td>0.000000</td>\n",
       "      <td>24.932070</td>\n",
       "      <td>121.473530</td>\n",
       "      <td>1.000000</td>\n",
       "      <td>402.000000</td>\n",
       "      <td>7.600000</td>\n",
       "    </tr>\n",
       "    <tr>\n",
       "      <th>25%</th>\n",
       "      <td>2012.916667</td>\n",
       "      <td>9.025000</td>\n",
       "      <td>289.324800</td>\n",
       "      <td>1.000000</td>\n",
       "      <td>24.963000</td>\n",
       "      <td>121.528085</td>\n",
       "      <td>1.000000</td>\n",
       "      <td>548.000000</td>\n",
       "      <td>27.700000</td>\n",
       "    </tr>\n",
       "    <tr>\n",
       "      <th>50%</th>\n",
       "      <td>2013.166667</td>\n",
       "      <td>16.100000</td>\n",
       "      <td>492.231300</td>\n",
       "      <td>4.000000</td>\n",
       "      <td>24.971100</td>\n",
       "      <td>121.538630</td>\n",
       "      <td>2.000000</td>\n",
       "      <td>975.000000</td>\n",
       "      <td>38.450000</td>\n",
       "    </tr>\n",
       "    <tr>\n",
       "      <th>75%</th>\n",
       "      <td>2013.416667</td>\n",
       "      <td>28.150000</td>\n",
       "      <td>1454.279000</td>\n",
       "      <td>6.000000</td>\n",
       "      <td>24.977455</td>\n",
       "      <td>121.543305</td>\n",
       "      <td>3.000000</td>\n",
       "      <td>1234.750000</td>\n",
       "      <td>46.600000</td>\n",
       "    </tr>\n",
       "    <tr>\n",
       "      <th>max</th>\n",
       "      <td>2013.583333</td>\n",
       "      <td>43.800000</td>\n",
       "      <td>6488.021000</td>\n",
       "      <td>10.000000</td>\n",
       "      <td>25.014590</td>\n",
       "      <td>121.566270</td>\n",
       "      <td>3.000000</td>\n",
       "      <td>1500.000000</td>\n",
       "      <td>117.500000</td>\n",
       "    </tr>\n",
       "  </tbody>\n",
       "</table>\n",
       "</div>"
      ],
      "text/plain": [
       "       Transaction date   House Age  Distance from nearest Metro station (km)  \\\n",
       "count        414.000000  414.000000                                414.000000   \n",
       "mean        2013.148953   17.712560                               1083.885689   \n",
       "std            0.281995   11.392485                               1262.109595   \n",
       "min         2012.666667    0.000000                                 23.382840   \n",
       "25%         2012.916667    9.025000                                289.324800   \n",
       "50%         2013.166667   16.100000                                492.231300   \n",
       "75%         2013.416667   28.150000                               1454.279000   \n",
       "max         2013.583333   43.800000                               6488.021000   \n",
       "\n",
       "       Number of convenience stores    latitude   longitude  \\\n",
       "count                    414.000000  414.000000  414.000000   \n",
       "mean                       4.094203   24.969030  121.533361   \n",
       "std                        2.945562    0.012410    0.015347   \n",
       "min                        0.000000   24.932070  121.473530   \n",
       "25%                        1.000000   24.963000  121.528085   \n",
       "50%                        4.000000   24.971100  121.538630   \n",
       "75%                        6.000000   24.977455  121.543305   \n",
       "max                       10.000000   25.014590  121.566270   \n",
       "\n",
       "       Number of bedrooms  House size (sqft)  House price of unit area  \n",
       "count          414.000000         414.000000                414.000000  \n",
       "mean             1.987923         931.475845                 37.980193  \n",
       "std              0.818875         348.910269                 13.606488  \n",
       "min              1.000000         402.000000                  7.600000  \n",
       "25%              1.000000         548.000000                 27.700000  \n",
       "50%              2.000000         975.000000                 38.450000  \n",
       "75%              3.000000        1234.750000                 46.600000  \n",
       "max              3.000000        1500.000000                117.500000  "
      ]
     },
     "execution_count": 8,
     "metadata": {},
     "output_type": "execute_result"
    }
   ],
   "source": [
    "df.describe()"
   ]
  },
  {
   "cell_type": "markdown",
   "id": "2ac70ffa",
   "metadata": {},
   "source": [
    " given data doesnot contain null values"
   ]
  },
  {
   "cell_type": "code",
   "execution_count": 9,
   "id": "102f8c46",
   "metadata": {},
   "outputs": [
    {
     "data": {
      "text/plain": [
       "Index(['Transaction date', 'House Age',\n",
       "       'Distance from nearest Metro station (km)',\n",
       "       'Number of convenience stores', 'latitude', 'longitude',\n",
       "       'Number of bedrooms', 'House size (sqft)', 'House price of unit area'],\n",
       "      dtype='object')"
      ]
     },
     "execution_count": 9,
     "metadata": {},
     "output_type": "execute_result"
    }
   ],
   "source": [
    "df.columns"
   ]
  },
  {
   "cell_type": "code",
   "execution_count": 10,
   "id": "91b3790c",
   "metadata": {},
   "outputs": [
    {
     "data": {
      "text/plain": [
       "array([32. , 19.5, 13.3,  5. ,  7.1, 34.5, 20.3, 31.7, 17.9, 34.8,  6.3,\n",
       "       13. , 20.4, 13.2, 35.7,  0. , 17.7, 16.9,  1.5,  4.5, 10.5, 14.7,\n",
       "       10.1, 39.6, 29.3,  3.1, 10.4, 19.2, 25.9, 29.6, 37.9, 16.5, 15.4,\n",
       "       13.9, 12. , 16.2, 13.6, 16.8, 36.1, 34.4,  2.7, 36.6, 21.7, 35.9,\n",
       "       24.2, 29.4, 31.3, 32.1, 16.1, 33.6,  3.5, 30.3, 11. ,  5.3, 17.2,\n",
       "        2.6, 17.5, 40.1,  1. ,  8.5, 30.4, 12.5,  6.6, 35.5, 32.5, 13.8,\n",
       "        6.8, 12.3, 20.5, 38.2, 18. , 11.8, 30.8, 25.3, 15.1,  1.8,  8.9,\n",
       "       23. ,  9.1, 20.6, 31.9, 40.9,  8. ,  6.4, 28.4, 16.4, 12.7,  1.1,\n",
       "       32.7, 12.2, 31.4,  4. ,  8.1, 33.3,  9.9, 14.8, 30.6, 30.9, 16.6,\n",
       "       31.5, 38.6,  3.8, 41.3, 38.5, 26.6, 33.4, 18.9, 11.4, 10. , 12.9,\n",
       "        5.1, 19.8, 11.9,  2.1,  3.2, 34.9, 35.8,  4.9,  6.5, 30.7, 11.6,\n",
       "       15.5, 16. , 13.7, 28.2, 27.6,  8.4, 24. ,  3.6,  4.3, 30.2, 33. ,\n",
       "       13.1, 14. , 26.9, 13.5, 17. , 14.1, 20.9, 16.3, 35.3, 43.8,  9.7,\n",
       "       15.2, 22.8, 34. , 18.2, 17.4, 38.3, 15.6, 12.8, 22.2, 11.5,  5.2,\n",
       "       17.6,  6.2, 18.1, 37.8, 28. , 37.2,  9. , 32.4, 31. , 27.1, 39.7,\n",
       "        2. , 32.8,  4.8,  7.5, 19. , 39.2,  5.9, 14.6, 17.3, 15.9,  3.9,\n",
       "       32.6, 15.7, 17.8, 34.7, 10.8, 27.5, 19.1, 21.2,  2.3,  4.7, 33.5,\n",
       "       15. , 30.1, 37.7,  3.4, 12.6, 26.4, 16.7, 33.2,  2.5, 38. , 20. ,\n",
       "       14.4, 10.3, 21.3, 35.4,  8.3,  3.7, 34.6, 28.6, 12.4,  4.1, 25.6,\n",
       "       39.8,  7.8, 30. , 27.3,  1.7,  5.7,  4.6, 18.4,  5.6, 32.9, 41.4,\n",
       "       17.1, 32.3, 14.2, 20.2, 33.9,  5.4, 37.3, 29.1, 18.3, 42.7, 37.1,\n",
       "       26.8,  7.6,  1.9, 18.5, 18.8])"
      ]
     },
     "execution_count": 10,
     "metadata": {},
     "output_type": "execute_result"
    }
   ],
   "source": [
    "df['House Age'].unique()"
   ]
  },
  {
   "cell_type": "code",
   "execution_count": 11,
   "id": "507867b1",
   "metadata": {
    "scrolled": false
   },
   "outputs": [
    {
     "data": {
      "text/html": [
       "<div>\n",
       "<style scoped>\n",
       "    .dataframe tbody tr th:only-of-type {\n",
       "        vertical-align: middle;\n",
       "    }\n",
       "\n",
       "    .dataframe tbody tr th {\n",
       "        vertical-align: top;\n",
       "    }\n",
       "\n",
       "    .dataframe thead th {\n",
       "        text-align: right;\n",
       "    }\n",
       "</style>\n",
       "<table border=\"1\" class=\"dataframe\">\n",
       "  <thead>\n",
       "    <tr style=\"text-align: right;\">\n",
       "      <th></th>\n",
       "      <th>Transaction date</th>\n",
       "      <th>House Age</th>\n",
       "      <th>Distance from nearest Metro station (km)</th>\n",
       "      <th>Number of convenience stores</th>\n",
       "      <th>latitude</th>\n",
       "      <th>longitude</th>\n",
       "      <th>Number of bedrooms</th>\n",
       "      <th>House size (sqft)</th>\n",
       "      <th>House price of unit area</th>\n",
       "    </tr>\n",
       "  </thead>\n",
       "  <tbody>\n",
       "    <tr>\n",
       "      <th>Transaction date</th>\n",
       "      <td>1.000000</td>\n",
       "      <td>0.017542</td>\n",
       "      <td>0.060880</td>\n",
       "      <td>0.009544</td>\n",
       "      <td>0.035016</td>\n",
       "      <td>-0.041065</td>\n",
       "      <td>0.061985</td>\n",
       "      <td>0.068405</td>\n",
       "      <td>0.087529</td>\n",
       "    </tr>\n",
       "    <tr>\n",
       "      <th>House Age</th>\n",
       "      <td>0.017542</td>\n",
       "      <td>1.000000</td>\n",
       "      <td>0.025622</td>\n",
       "      <td>0.049593</td>\n",
       "      <td>0.054420</td>\n",
       "      <td>-0.048520</td>\n",
       "      <td>-0.008756</td>\n",
       "      <td>-0.060361</td>\n",
       "      <td>-0.210567</td>\n",
       "    </tr>\n",
       "    <tr>\n",
       "      <th>Distance from nearest Metro station (km)</th>\n",
       "      <td>0.060880</td>\n",
       "      <td>0.025622</td>\n",
       "      <td>1.000000</td>\n",
       "      <td>-0.602519</td>\n",
       "      <td>-0.591067</td>\n",
       "      <td>-0.806317</td>\n",
       "      <td>-0.046856</td>\n",
       "      <td>0.001795</td>\n",
       "      <td>-0.673613</td>\n",
       "    </tr>\n",
       "    <tr>\n",
       "      <th>Number of convenience stores</th>\n",
       "      <td>0.009544</td>\n",
       "      <td>0.049593</td>\n",
       "      <td>-0.602519</td>\n",
       "      <td>1.000000</td>\n",
       "      <td>0.444143</td>\n",
       "      <td>0.449099</td>\n",
       "      <td>0.043638</td>\n",
       "      <td>0.033286</td>\n",
       "      <td>0.571005</td>\n",
       "    </tr>\n",
       "    <tr>\n",
       "      <th>latitude</th>\n",
       "      <td>0.035016</td>\n",
       "      <td>0.054420</td>\n",
       "      <td>-0.591067</td>\n",
       "      <td>0.444143</td>\n",
       "      <td>1.000000</td>\n",
       "      <td>0.412924</td>\n",
       "      <td>0.043921</td>\n",
       "      <td>0.031696</td>\n",
       "      <td>0.546307</td>\n",
       "    </tr>\n",
       "    <tr>\n",
       "      <th>longitude</th>\n",
       "      <td>-0.041065</td>\n",
       "      <td>-0.048520</td>\n",
       "      <td>-0.806317</td>\n",
       "      <td>0.449099</td>\n",
       "      <td>0.412924</td>\n",
       "      <td>1.000000</td>\n",
       "      <td>0.041680</td>\n",
       "      <td>0.009322</td>\n",
       "      <td>0.523287</td>\n",
       "    </tr>\n",
       "    <tr>\n",
       "      <th>Number of bedrooms</th>\n",
       "      <td>0.061985</td>\n",
       "      <td>-0.008756</td>\n",
       "      <td>-0.046856</td>\n",
       "      <td>0.043638</td>\n",
       "      <td>0.043921</td>\n",
       "      <td>0.041680</td>\n",
       "      <td>1.000000</td>\n",
       "      <td>0.752276</td>\n",
       "      <td>0.050265</td>\n",
       "    </tr>\n",
       "    <tr>\n",
       "      <th>House size (sqft)</th>\n",
       "      <td>0.068405</td>\n",
       "      <td>-0.060361</td>\n",
       "      <td>0.001795</td>\n",
       "      <td>0.033286</td>\n",
       "      <td>0.031696</td>\n",
       "      <td>0.009322</td>\n",
       "      <td>0.752276</td>\n",
       "      <td>1.000000</td>\n",
       "      <td>0.046489</td>\n",
       "    </tr>\n",
       "    <tr>\n",
       "      <th>House price of unit area</th>\n",
       "      <td>0.087529</td>\n",
       "      <td>-0.210567</td>\n",
       "      <td>-0.673613</td>\n",
       "      <td>0.571005</td>\n",
       "      <td>0.546307</td>\n",
       "      <td>0.523287</td>\n",
       "      <td>0.050265</td>\n",
       "      <td>0.046489</td>\n",
       "      <td>1.000000</td>\n",
       "    </tr>\n",
       "  </tbody>\n",
       "</table>\n",
       "</div>"
      ],
      "text/plain": [
       "                                          Transaction date  House Age  \\\n",
       "Transaction date                                  1.000000   0.017542   \n",
       "House Age                                         0.017542   1.000000   \n",
       "Distance from nearest Metro station (km)          0.060880   0.025622   \n",
       "Number of convenience stores                      0.009544   0.049593   \n",
       "latitude                                          0.035016   0.054420   \n",
       "longitude                                        -0.041065  -0.048520   \n",
       "Number of bedrooms                                0.061985  -0.008756   \n",
       "House size (sqft)                                 0.068405  -0.060361   \n",
       "House price of unit area                          0.087529  -0.210567   \n",
       "\n",
       "                                          Distance from nearest Metro station (km)  \\\n",
       "Transaction date                                                          0.060880   \n",
       "House Age                                                                 0.025622   \n",
       "Distance from nearest Metro station (km)                                  1.000000   \n",
       "Number of convenience stores                                             -0.602519   \n",
       "latitude                                                                 -0.591067   \n",
       "longitude                                                                -0.806317   \n",
       "Number of bedrooms                                                       -0.046856   \n",
       "House size (sqft)                                                         0.001795   \n",
       "House price of unit area                                                 -0.673613   \n",
       "\n",
       "                                          Number of convenience stores  \\\n",
       "Transaction date                                              0.009544   \n",
       "House Age                                                     0.049593   \n",
       "Distance from nearest Metro station (km)                     -0.602519   \n",
       "Number of convenience stores                                  1.000000   \n",
       "latitude                                                      0.444143   \n",
       "longitude                                                     0.449099   \n",
       "Number of bedrooms                                            0.043638   \n",
       "House size (sqft)                                             0.033286   \n",
       "House price of unit area                                      0.571005   \n",
       "\n",
       "                                          latitude  longitude  \\\n",
       "Transaction date                          0.035016  -0.041065   \n",
       "House Age                                 0.054420  -0.048520   \n",
       "Distance from nearest Metro station (km) -0.591067  -0.806317   \n",
       "Number of convenience stores              0.444143   0.449099   \n",
       "latitude                                  1.000000   0.412924   \n",
       "longitude                                 0.412924   1.000000   \n",
       "Number of bedrooms                        0.043921   0.041680   \n",
       "House size (sqft)                         0.031696   0.009322   \n",
       "House price of unit area                  0.546307   0.523287   \n",
       "\n",
       "                                          Number of bedrooms  \\\n",
       "Transaction date                                    0.061985   \n",
       "House Age                                          -0.008756   \n",
       "Distance from nearest Metro station (km)           -0.046856   \n",
       "Number of convenience stores                        0.043638   \n",
       "latitude                                            0.043921   \n",
       "longitude                                           0.041680   \n",
       "Number of bedrooms                                  1.000000   \n",
       "House size (sqft)                                   0.752276   \n",
       "House price of unit area                            0.050265   \n",
       "\n",
       "                                          House size (sqft)  \\\n",
       "Transaction date                                   0.068405   \n",
       "House Age                                         -0.060361   \n",
       "Distance from nearest Metro station (km)           0.001795   \n",
       "Number of convenience stores                       0.033286   \n",
       "latitude                                           0.031696   \n",
       "longitude                                          0.009322   \n",
       "Number of bedrooms                                 0.752276   \n",
       "House size (sqft)                                  1.000000   \n",
       "House price of unit area                           0.046489   \n",
       "\n",
       "                                          House price of unit area  \n",
       "Transaction date                                          0.087529  \n",
       "House Age                                                -0.210567  \n",
       "Distance from nearest Metro station (km)                 -0.673613  \n",
       "Number of convenience stores                              0.571005  \n",
       "latitude                                                  0.546307  \n",
       "longitude                                                 0.523287  \n",
       "Number of bedrooms                                        0.050265  \n",
       "House size (sqft)                                         0.046489  \n",
       "House price of unit area                                  1.000000  "
      ]
     },
     "execution_count": 11,
     "metadata": {},
     "output_type": "execute_result"
    }
   ],
   "source": [
    "df.corr()"
   ]
  },
  {
   "cell_type": "markdown",
   "id": "bc697fd2",
   "metadata": {},
   "source": [
    "lets see what all features impact the final house price, for that we use correlation matrix(heat map).."
   ]
  },
  {
   "cell_type": "code",
   "execution_count": 12,
   "id": "421d8e9e",
   "metadata": {},
   "outputs": [
    {
     "data": {
      "text/plain": [
       "Text(0.5, 1.0, 'Correlation Between features')"
      ]
     },
     "execution_count": 12,
     "metadata": {},
     "output_type": "execute_result"
    },
    {
     "data": {
      "image/png": "[encoded data removed]",
      "text/plain": [
       "<Figure size 432x288 with 2 Axes>"
      ]
     },
     "metadata": {
      "needs_background": "light"
     },
     "output_type": "display_data"
    }
   ],
   "source": [
    "#heat map\n",
    "\n",
    "sns.heatmap(df.corr(),annot=True)\n",
    "plt.title(\"Correlation Between features\") "
   ]
  },
  {
   "cell_type": "markdown",
   "id": "7a99db58",
   "metadata": {},
   "source": [
    "Observation:\n",
    "    We can observe that Number of convience stores, latitude, longitude, distance from nearest station greatly influencing the Final house price"
   ]
  },
  {
   "cell_type": "code",
   "execution_count": 13,
   "id": "06998edc",
   "metadata": {},
   "outputs": [
    {
     "data": {
      "text/plain": [
       "Distance from nearest Metro station (km)    0.673613\n",
       "Number of convenience stores                0.571005\n",
       "latitude                                    0.546307\n",
       "longitude                                   0.523287\n",
       "House price of unit area                    1.000000\n",
       "Name: House price of unit area, dtype: float64"
      ]
     },
     "execution_count": 13,
     "metadata": {},
     "output_type": "execute_result"
    }
   ],
   "source": [
    "cor = df.corr()\n",
    "cor_target = abs(cor[\"House price of unit area\"])\n",
    "#Selecting highly correlated features\n",
    "relevant_features = cor_target[cor_target>0.5]\n",
    "relevant_features "
   ]
  },
  {
   "cell_type": "markdown",
   "id": "a3561e03",
   "metadata": {},
   "source": [
    "The above features are influencing the house price. So lets remove the features which has low correlation "
   ]
  },
  {
   "cell_type": "code",
   "execution_count": 14,
   "id": "048617ee",
   "metadata": {},
   "outputs": [
    {
     "data": {
      "text/html": [
       "<div>\n",
       "<style scoped>\n",
       "    .dataframe tbody tr th:only-of-type {\n",
       "        vertical-align: middle;\n",
       "    }\n",
       "\n",
       "    .dataframe tbody tr th {\n",
       "        vertical-align: top;\n",
       "    }\n",
       "\n",
       "    .dataframe thead th {\n",
       "        text-align: right;\n",
       "    }\n",
       "</style>\n",
       "<table border=\"1\" class=\"dataframe\">\n",
       "  <thead>\n",
       "    <tr style=\"text-align: right;\">\n",
       "      <th></th>\n",
       "      <th>Distance from nearest Metro station (km)</th>\n",
       "      <th>Number of convenience stores</th>\n",
       "      <th>latitude</th>\n",
       "      <th>longitude</th>\n",
       "      <th>House price of unit area</th>\n",
       "    </tr>\n",
       "  </thead>\n",
       "  <tbody>\n",
       "    <tr>\n",
       "      <th>0</th>\n",
       "      <td>84.87882</td>\n",
       "      <td>10</td>\n",
       "      <td>24.98298</td>\n",
       "      <td>121.54024</td>\n",
       "      <td>37.9</td>\n",
       "    </tr>\n",
       "    <tr>\n",
       "      <th>1</th>\n",
       "      <td>306.59470</td>\n",
       "      <td>9</td>\n",
       "      <td>24.98034</td>\n",
       "      <td>121.53951</td>\n",
       "      <td>42.2</td>\n",
       "    </tr>\n",
       "    <tr>\n",
       "      <th>2</th>\n",
       "      <td>561.98450</td>\n",
       "      <td>5</td>\n",
       "      <td>24.98746</td>\n",
       "      <td>121.54391</td>\n",
       "      <td>47.3</td>\n",
       "    </tr>\n",
       "    <tr>\n",
       "      <th>3</th>\n",
       "      <td>561.98450</td>\n",
       "      <td>5</td>\n",
       "      <td>24.98746</td>\n",
       "      <td>121.54391</td>\n",
       "      <td>54.8</td>\n",
       "    </tr>\n",
       "    <tr>\n",
       "      <th>4</th>\n",
       "      <td>390.56840</td>\n",
       "      <td>5</td>\n",
       "      <td>24.97937</td>\n",
       "      <td>121.54245</td>\n",
       "      <td>43.1</td>\n",
       "    </tr>\n",
       "  </tbody>\n",
       "</table>\n",
       "</div>"
      ],
      "text/plain": [
       "   Distance from nearest Metro station (km)  Number of convenience stores  \\\n",
       "0                                  84.87882                            10   \n",
       "1                                 306.59470                             9   \n",
       "2                                 561.98450                             5   \n",
       "3                                 561.98450                             5   \n",
       "4                                 390.56840                             5   \n",
       "\n",
       "   latitude  longitude  House price of unit area  \n",
       "0  24.98298  121.54024                      37.9  \n",
       "1  24.98034  121.53951                      42.2  \n",
       "2  24.98746  121.54391                      47.3  \n",
       "3  24.98746  121.54391                      54.8  \n",
       "4  24.97937  121.54245                      43.1  "
      ]
     },
     "execution_count": 14,
     "metadata": {},
     "output_type": "execute_result"
    }
   ],
   "source": [
    "df2=df.drop(['Transaction date','House Age','Number of bedrooms','House size (sqft)'],axis=1)\n",
    "df2.head()"
   ]
  },
  {
   "cell_type": "code",
   "execution_count": 15,
   "id": "c8d7b187",
   "metadata": {},
   "outputs": [
    {
     "data": {
      "text/plain": [
       "<seaborn.axisgrid.PairGrid at 0x1f71cf43b50>"
      ]
     },
     "execution_count": 15,
     "metadata": {},
     "output_type": "execute_result"
    },
    {
     "data": {
      "image/png": "[encoded data removed]",
      "text/plain": [
       "<Figure size 900x900 with 30 Axes>"
      ]
     },
     "metadata": {
      "needs_background": "light"
     },
     "output_type": "display_data"
    }
   ],
   "source": [
    "sns.pairplot(data=df2,palette='Set2')"
   ]
  },
  {
   "cell_type": "code",
   "execution_count": 16,
   "id": "b606a116",
   "metadata": {},
   "outputs": [
    {
     "data": {
      "text/plain": [
       "array([  84.87882,  306.5947 ,  561.9845 ,  390.5684 , 2175.03   ,\n",
       "        623.4731 ,  287.6025 , 5512.038  , 1783.18   ,  405.2134 ,\n",
       "         90.45606,  492.2313 , 2469.645  , 1164.838  ,  579.2083 ,\n",
       "        292.9978 ,  350.8515 ,  368.1363 ,   23.38284, 2275.877  ,\n",
       "        279.1726 , 1360.139  ,  480.6977 , 1487.868  ,  383.8624 ,\n",
       "        276.449  ,  557.478  ,  451.2438 , 4519.69   ,  769.4034 ,\n",
       "        488.5727 ,  323.655  ,  205.367  , 4079.418  , 1935.009  ,\n",
       "        577.9615 ,  289.3248 , 4082.015  , 4066.587  ,  519.4617 ,\n",
       "        512.7871 ,  533.4762 ,  488.8193 ,  463.9623 ,  640.7391 ,\n",
       "       4605.749  , 4510.359  ,  512.5487 , 1758.406  , 1438.579  ,\n",
       "       1160.632  ,  371.2495 ,   56.47425,  336.0532 , 1931.207  ,\n",
       "        259.6607 , 2175.877  ,  995.7554 ,  123.7429 ,  193.5845 ,\n",
       "        104.8101 ,  464.223  ,  424.5442 ,  379.5575 ,  616.4004 ,\n",
       "       2185.128  ,  552.4371 , 1414.837  ,  377.7956 ,  150.9347 ,\n",
       "       2707.392  ,  383.2805 ,  338.9679 , 1455.798  , 1406.43   ,\n",
       "       3947.945  ,  274.0144 , 1402.016  , 1146.329  ,  167.5989 ,\n",
       "        617.4424 ,  964.7496 ,  170.1289 ,  208.3905 ,  392.4459 ,\n",
       "        189.5181 ,  592.5006 , 2147.376  ,  196.6172 , 2102.427  ,\n",
       "        393.2606 ,  143.8383 ,  737.9161 , 6396.283  , 4197.349  ,\n",
       "       1583.722  ,  414.9476 ,  185.4296 ,  804.6897 ,  124.9912 ,\n",
       "        216.8329 ,  535.527  ,  482.7581 ,  373.3937 ,  186.9686 ,\n",
       "       1009.235  ,  319.0708 ,  942.4664 , 1559.827  ,  640.6071 ,\n",
       "        489.8821 , 3780.59   ,  179.4538 ,  170.7311 ,  387.7721 ,\n",
       "        376.1709 , 1264.73   ,  815.9314 ,   49.66105, 1236.564  ,\n",
       "        330.0854 ,  515.1122 , 1962.628  , 4527.687  ,  401.8807 ,\n",
       "        432.0385 ,  472.1745 , 4573.779  ,  181.0766 , 1144.436  ,\n",
       "        438.8513 , 4449.27   ,  201.8939 , 2615.465  , 1447.286  ,\n",
       "       3078.176  ,  190.0392 ,  616.5735 ,  750.0704 ,   57.58945,\n",
       "        421.479  , 3771.895  ,  461.1016 ,  707.9067 ,  126.7286 ,\n",
       "        157.6052 ,  451.6419 ,  642.6985 , 1449.722  ,  665.0636 ,\n",
       "        175.6294 , 1805.665  ,  383.7129 ,  590.9292 ,  372.6242 ,\n",
       "        529.7771 ,  186.5101 ,  431.1114 ,  324.9419 ,  265.0609 ,\n",
       "       3171.329  , 1156.412  , 4074.736  , 4412.765  ,  333.3679 ,\n",
       "       2216.612  ,  250.631  ,  373.8389 ,  732.8528 ,  837.7233 ,\n",
       "       1712.632  , 2077.39   ,  204.1705 ,  639.6198 ,  389.8219 ,\n",
       "       1055.067  , 6306.153  ,  424.7132 , 1159.454  , 1735.595  ,\n",
       "        329.9747 ,  339.2289 ,  444.1334 , 1485.097  , 2288.011  ,\n",
       "        493.657  ,  252.5822 ,  394.0173 , 1554.25   ,  184.3302 ,\n",
       "       1978.671  ,  718.2937 ,  323.6912 ,  490.3446 ,  395.6747 ,\n",
       "        335.5273 , 2179.59   ,  567.0349 ,  121.7262 ,  156.2442 ,\n",
       "        461.7848 ,  439.7105 , 1626.083  ,  169.9803 , 3079.89   ,\n",
       "       1643.499  ,  537.7971 ,  318.5292 , 1756.411  ,  752.7669 ,\n",
       "        272.6783 ,  187.4823 ,  197.1338 ,  757.3377 , 1497.713  ,\n",
       "       1156.777  ,  617.7134 , 1013.341  ,  337.6016 , 1867.233  ,\n",
       "        600.8604 ,  258.186  ,  270.8895 ,  563.2854 , 3085.17   ,\n",
       "       6488.021  , 2180.245  , 2674.961  ,  211.4473 , 2408.993  ,\n",
       "         87.30222,  281.205  ,  967.4    ,  109.9455 ,  614.1394 ,\n",
       "       2261.432  , 1801.544  , 1828.319  ,  312.8963 , 1157.988  ,\n",
       "       1717.193  ,  587.8877 ,  132.5469 , 3529.564  ,  506.1144 ,\n",
       "         82.88643, 2103.555  , 2251.938  ,  122.3619 ,  377.8302 ,\n",
       "       1939.749  ,  443.802  , 4136.271  ,  918.6357 ,  161.942  ,\n",
       "        130.9945 ,  372.1386 , 2175.744  ,  390.9696 ])"
      ]
     },
     "execution_count": 16,
     "metadata": {},
     "output_type": "execute_result"
    }
   ],
   "source": [
    "df2['Distance from nearest Metro station (km)'].unique()"
   ]
  },
  {
   "cell_type": "code",
   "execution_count": 17,
   "id": "f16bdd7c",
   "metadata": {},
   "outputs": [
    {
     "data": {
      "text/plain": [
       "<AxesSubplot:>"
      ]
     },
     "execution_count": 17,
     "metadata": {},
     "output_type": "execute_result"
    },
    {
     "data": {
      "image/png": "[encoded data removed]",
      "text/plain": [
       "<Figure size 432x288 with 1 Axes>"
      ]
     },
     "metadata": {
      "needs_background": "light"
     },
     "output_type": "display_data"
    }
   ],
   "source": [
    "df2.boxplot(column='Distance from nearest Metro station (km)')"
   ]
  },
  {
   "cell_type": "markdown",
   "id": "4fc6046a",
   "metadata": {},
   "source": [
    "from boxplot it is clear that the data is not centred and it is left- skewed, also we can observe that there are many outliers. \n",
    "lets find the maximum value of the above plot which can be given by following formula\n",
    "maximum= Q3+1.5(IQR) where IQR= Q3-Q1\n"
   ]
  },
  {
   "cell_type": "code",
   "execution_count": 18,
   "id": "48b2aaac",
   "metadata": {},
   "outputs": [
    {
     "name": "stdout",
     "output_type": "stream",
     "text": [
      "289.3248 1454.279\n"
     ]
    }
   ],
   "source": [
    "Q1= df['Distance from nearest Metro station (km)'].quantile(0.25)\n",
    "Q3= df['Distance from nearest Metro station (km)'].quantile(0.75)\n",
    "print(Q1,Q3)"
   ]
  },
  {
   "cell_type": "code",
   "execution_count": 19,
   "id": "8195aadb",
   "metadata": {},
   "outputs": [
    {
     "name": "stdout",
     "output_type": "stream",
     "text": [
      "1164.9542000000001\n",
      "3201.7103\n"
     ]
    }
   ],
   "source": [
    "IQR= Q3-Q1\n",
    "maximum= Q3+1.5*(IQR)\n",
    "print(IQR)\n",
    "print(maximum)"
   ]
  },
  {
   "cell_type": "code",
   "execution_count": 20,
   "id": "56209376",
   "metadata": {},
   "outputs": [
    {
     "data": {
      "text/html": [
       "<div>\n",
       "<style scoped>\n",
       "    .dataframe tbody tr th:only-of-type {\n",
       "        vertical-align: middle;\n",
       "    }\n",
       "\n",
       "    .dataframe tbody tr th {\n",
       "        vertical-align: top;\n",
       "    }\n",
       "\n",
       "    .dataframe thead th {\n",
       "        text-align: right;\n",
       "    }\n",
       "</style>\n",
       "<table border=\"1\" class=\"dataframe\">\n",
       "  <thead>\n",
       "    <tr style=\"text-align: right;\">\n",
       "      <th></th>\n",
       "      <th>Distance from nearest Metro station (km)</th>\n",
       "      <th>Number of convenience stores</th>\n",
       "      <th>latitude</th>\n",
       "      <th>longitude</th>\n",
       "      <th>House price of unit area</th>\n",
       "    </tr>\n",
       "  </thead>\n",
       "  <tbody>\n",
       "    <tr>\n",
       "      <th>8</th>\n",
       "      <td>5512.038</td>\n",
       "      <td>1</td>\n",
       "      <td>24.95095</td>\n",
       "      <td>121.48458</td>\n",
       "      <td>18.8</td>\n",
       "    </tr>\n",
       "    <tr>\n",
       "      <th>30</th>\n",
       "      <td>4519.690</td>\n",
       "      <td>0</td>\n",
       "      <td>24.94826</td>\n",
       "      <td>121.49587</td>\n",
       "      <td>22.1</td>\n",
       "    </tr>\n",
       "    <tr>\n",
       "      <th>35</th>\n",
       "      <td>4079.418</td>\n",
       "      <td>0</td>\n",
       "      <td>25.01459</td>\n",
       "      <td>121.51816</td>\n",
       "      <td>27.3</td>\n",
       "    </tr>\n",
       "    <tr>\n",
       "      <th>40</th>\n",
       "      <td>4082.015</td>\n",
       "      <td>0</td>\n",
       "      <td>24.94155</td>\n",
       "      <td>121.50381</td>\n",
       "      <td>15.9</td>\n",
       "    </tr>\n",
       "    <tr>\n",
       "      <th>41</th>\n",
       "      <td>4066.587</td>\n",
       "      <td>0</td>\n",
       "      <td>24.94297</td>\n",
       "      <td>121.50342</td>\n",
       "      <td>18.2</td>\n",
       "    </tr>\n",
       "    <tr>\n",
       "      <th>48</th>\n",
       "      <td>4605.749</td>\n",
       "      <td>0</td>\n",
       "      <td>24.94684</td>\n",
       "      <td>121.49578</td>\n",
       "      <td>13.4</td>\n",
       "    </tr>\n",
       "    <tr>\n",
       "      <th>49</th>\n",
       "      <td>4510.359</td>\n",
       "      <td>1</td>\n",
       "      <td>24.94925</td>\n",
       "      <td>121.49542</td>\n",
       "      <td>13.2</td>\n",
       "    </tr>\n",
       "    <tr>\n",
       "      <th>58</th>\n",
       "      <td>4510.359</td>\n",
       "      <td>1</td>\n",
       "      <td>24.94925</td>\n",
       "      <td>121.49542</td>\n",
       "      <td>22.6</td>\n",
       "    </tr>\n",
       "    <tr>\n",
       "      <th>73</th>\n",
       "      <td>4082.015</td>\n",
       "      <td>0</td>\n",
       "      <td>24.94155</td>\n",
       "      <td>121.50381</td>\n",
       "      <td>20.0</td>\n",
       "    </tr>\n",
       "    <tr>\n",
       "      <th>87</th>\n",
       "      <td>4066.587</td>\n",
       "      <td>0</td>\n",
       "      <td>24.94297</td>\n",
       "      <td>121.50342</td>\n",
       "      <td>18.3</td>\n",
       "    </tr>\n",
       "    <tr>\n",
       "      <th>89</th>\n",
       "      <td>3947.945</td>\n",
       "      <td>0</td>\n",
       "      <td>24.94783</td>\n",
       "      <td>121.50243</td>\n",
       "      <td>25.3</td>\n",
       "    </tr>\n",
       "    <tr>\n",
       "      <th>116</th>\n",
       "      <td>6396.283</td>\n",
       "      <td>1</td>\n",
       "      <td>24.94375</td>\n",
       "      <td>121.47883</td>\n",
       "      <td>12.2</td>\n",
       "    </tr>\n",
       "    <tr>\n",
       "      <th>117</th>\n",
       "      <td>4197.349</td>\n",
       "      <td>0</td>\n",
       "      <td>24.93885</td>\n",
       "      <td>121.50383</td>\n",
       "      <td>13.0</td>\n",
       "    </tr>\n",
       "    <tr>\n",
       "      <th>148</th>\n",
       "      <td>3780.590</td>\n",
       "      <td>0</td>\n",
       "      <td>24.93293</td>\n",
       "      <td>121.51203</td>\n",
       "      <td>45.1</td>\n",
       "    </tr>\n",
       "    <tr>\n",
       "      <th>154</th>\n",
       "      <td>4066.587</td>\n",
       "      <td>0</td>\n",
       "      <td>24.94297</td>\n",
       "      <td>121.50342</td>\n",
       "      <td>20.7</td>\n",
       "    </tr>\n",
       "    <tr>\n",
       "      <th>155</th>\n",
       "      <td>4082.015</td>\n",
       "      <td>0</td>\n",
       "      <td>24.94155</td>\n",
       "      <td>121.50381</td>\n",
       "      <td>15.6</td>\n",
       "    </tr>\n",
       "    <tr>\n",
       "      <th>162</th>\n",
       "      <td>4066.587</td>\n",
       "      <td>0</td>\n",
       "      <td>24.94297</td>\n",
       "      <td>121.50342</td>\n",
       "      <td>11.6</td>\n",
       "    </tr>\n",
       "    <tr>\n",
       "      <th>170</th>\n",
       "      <td>4527.687</td>\n",
       "      <td>0</td>\n",
       "      <td>24.94741</td>\n",
       "      <td>121.49628</td>\n",
       "      <td>14.4</td>\n",
       "    </tr>\n",
       "    <tr>\n",
       "      <th>176</th>\n",
       "      <td>4573.779</td>\n",
       "      <td>0</td>\n",
       "      <td>24.94867</td>\n",
       "      <td>121.49507</td>\n",
       "      <td>19.2</td>\n",
       "    </tr>\n",
       "    <tr>\n",
       "      <th>180</th>\n",
       "      <td>4449.270</td>\n",
       "      <td>0</td>\n",
       "      <td>24.94898</td>\n",
       "      <td>121.49621</td>\n",
       "      <td>15.5</td>\n",
       "    </tr>\n",
       "    <tr>\n",
       "      <th>183</th>\n",
       "      <td>4082.015</td>\n",
       "      <td>0</td>\n",
       "      <td>24.94155</td>\n",
       "      <td>121.50381</td>\n",
       "      <td>18.8</td>\n",
       "    </tr>\n",
       "    <tr>\n",
       "      <th>189</th>\n",
       "      <td>4066.587</td>\n",
       "      <td>0</td>\n",
       "      <td>24.94297</td>\n",
       "      <td>121.50342</td>\n",
       "      <td>20.5</td>\n",
       "    </tr>\n",
       "    <tr>\n",
       "      <th>194</th>\n",
       "      <td>3771.895</td>\n",
       "      <td>0</td>\n",
       "      <td>24.93363</td>\n",
       "      <td>121.51158</td>\n",
       "      <td>29.3</td>\n",
       "    </tr>\n",
       "    <tr>\n",
       "      <th>226</th>\n",
       "      <td>4082.015</td>\n",
       "      <td>0</td>\n",
       "      <td>24.94155</td>\n",
       "      <td>121.50381</td>\n",
       "      <td>12.8</td>\n",
       "    </tr>\n",
       "    <tr>\n",
       "      <th>231</th>\n",
       "      <td>4074.736</td>\n",
       "      <td>0</td>\n",
       "      <td>24.94235</td>\n",
       "      <td>121.50357</td>\n",
       "      <td>14.7</td>\n",
       "    </tr>\n",
       "    <tr>\n",
       "      <th>232</th>\n",
       "      <td>4412.765</td>\n",
       "      <td>1</td>\n",
       "      <td>24.95032</td>\n",
       "      <td>121.49587</td>\n",
       "      <td>17.4</td>\n",
       "    </tr>\n",
       "    <tr>\n",
       "      <th>249</th>\n",
       "      <td>6306.153</td>\n",
       "      <td>1</td>\n",
       "      <td>24.95743</td>\n",
       "      <td>121.47516</td>\n",
       "      <td>15.0</td>\n",
       "    </tr>\n",
       "    <tr>\n",
       "      <th>255</th>\n",
       "      <td>5512.038</td>\n",
       "      <td>1</td>\n",
       "      <td>24.95095</td>\n",
       "      <td>121.48458</td>\n",
       "      <td>17.4</td>\n",
       "    </tr>\n",
       "    <tr>\n",
       "      <th>298</th>\n",
       "      <td>4082.015</td>\n",
       "      <td>0</td>\n",
       "      <td>24.94155</td>\n",
       "      <td>121.50381</td>\n",
       "      <td>16.7</td>\n",
       "    </tr>\n",
       "    <tr>\n",
       "      <th>320</th>\n",
       "      <td>4197.349</td>\n",
       "      <td>0</td>\n",
       "      <td>24.93885</td>\n",
       "      <td>121.50383</td>\n",
       "      <td>18.6</td>\n",
       "    </tr>\n",
       "    <tr>\n",
       "      <th>329</th>\n",
       "      <td>4197.349</td>\n",
       "      <td>0</td>\n",
       "      <td>24.93885</td>\n",
       "      <td>121.50383</td>\n",
       "      <td>19.2</td>\n",
       "    </tr>\n",
       "    <tr>\n",
       "      <th>331</th>\n",
       "      <td>4519.690</td>\n",
       "      <td>0</td>\n",
       "      <td>24.94826</td>\n",
       "      <td>121.49587</td>\n",
       "      <td>15.6</td>\n",
       "    </tr>\n",
       "    <tr>\n",
       "      <th>347</th>\n",
       "      <td>6488.021</td>\n",
       "      <td>1</td>\n",
       "      <td>24.95719</td>\n",
       "      <td>121.47353</td>\n",
       "      <td>11.2</td>\n",
       "    </tr>\n",
       "    <tr>\n",
       "      <th>382</th>\n",
       "      <td>3529.564</td>\n",
       "      <td>0</td>\n",
       "      <td>24.93207</td>\n",
       "      <td>121.51597</td>\n",
       "      <td>29.3</td>\n",
       "    </tr>\n",
       "    <tr>\n",
       "      <th>384</th>\n",
       "      <td>4066.587</td>\n",
       "      <td>0</td>\n",
       "      <td>24.94297</td>\n",
       "      <td>121.50342</td>\n",
       "      <td>12.9</td>\n",
       "    </tr>\n",
       "    <tr>\n",
       "      <th>394</th>\n",
       "      <td>4136.271</td>\n",
       "      <td>1</td>\n",
       "      <td>24.95544</td>\n",
       "      <td>121.49630</td>\n",
       "      <td>24.7</td>\n",
       "    </tr>\n",
       "    <tr>\n",
       "      <th>409</th>\n",
       "      <td>4082.015</td>\n",
       "      <td>0</td>\n",
       "      <td>24.94155</td>\n",
       "      <td>121.50381</td>\n",
       "      <td>15.4</td>\n",
       "    </tr>\n",
       "  </tbody>\n",
       "</table>\n",
       "</div>"
      ],
      "text/plain": [
       "     Distance from nearest Metro station (km)  Number of convenience stores  \\\n",
       "8                                    5512.038                             1   \n",
       "30                                   4519.690                             0   \n",
       "35                                   4079.418                             0   \n",
       "40                                   4082.015                             0   \n",
       "41                                   4066.587                             0   \n",
       "48                                   4605.749                             0   \n",
       "49                                   4510.359                             1   \n",
       "58                                   4510.359                             1   \n",
       "73                                   4082.015                             0   \n",
       "87                                   4066.587                             0   \n",
       "89                                   3947.945                             0   \n",
       "116                                  6396.283                             1   \n",
       "117                                  4197.349                             0   \n",
       "148                                  3780.590                             0   \n",
       "154                                  4066.587                             0   \n",
       "155                                  4082.015                             0   \n",
       "162                                  4066.587                             0   \n",
       "170                                  4527.687                             0   \n",
       "176                                  4573.779                             0   \n",
       "180                                  4449.270                             0   \n",
       "183                                  4082.015                             0   \n",
       "189                                  4066.587                             0   \n",
       "194                                  3771.895                             0   \n",
       "226                                  4082.015                             0   \n",
       "231                                  4074.736                             0   \n",
       "232                                  4412.765                             1   \n",
       "249                                  6306.153                             1   \n",
       "255                                  5512.038                             1   \n",
       "298                                  4082.015                             0   \n",
       "320                                  4197.349                             0   \n",
       "329                                  4197.349                             0   \n",
       "331                                  4519.690                             0   \n",
       "347                                  6488.021                             1   \n",
       "382                                  3529.564                             0   \n",
       "384                                  4066.587                             0   \n",
       "394                                  4136.271                             1   \n",
       "409                                  4082.015                             0   \n",
       "\n",
       "     latitude  longitude  House price of unit area  \n",
       "8    24.95095  121.48458                      18.8  \n",
       "30   24.94826  121.49587                      22.1  \n",
       "35   25.01459  121.51816                      27.3  \n",
       "40   24.94155  121.50381                      15.9  \n",
       "41   24.94297  121.50342                      18.2  \n",
       "48   24.94684  121.49578                      13.4  \n",
       "49   24.94925  121.49542                      13.2  \n",
       "58   24.94925  121.49542                      22.6  \n",
       "73   24.94155  121.50381                      20.0  \n",
       "87   24.94297  121.50342                      18.3  \n",
       "89   24.94783  121.50243                      25.3  \n",
       "116  24.94375  121.47883                      12.2  \n",
       "117  24.93885  121.50383                      13.0  \n",
       "148  24.93293  121.51203                      45.1  \n",
       "154  24.94297  121.50342                      20.7  \n",
       "155  24.94155  121.50381                      15.6  \n",
       "162  24.94297  121.50342                      11.6  \n",
       "170  24.94741  121.49628                      14.4  \n",
       "176  24.94867  121.49507                      19.2  \n",
       "180  24.94898  121.49621                      15.5  \n",
       "183  24.94155  121.50381                      18.8  \n",
       "189  24.94297  121.50342                      20.5  \n",
       "194  24.93363  121.51158                      29.3  \n",
       "226  24.94155  121.50381                      12.8  \n",
       "231  24.94235  121.50357                      14.7  \n",
       "232  24.95032  121.49587                      17.4  \n",
       "249  24.95743  121.47516                      15.0  \n",
       "255  24.95095  121.48458                      17.4  \n",
       "298  24.94155  121.50381                      16.7  \n",
       "320  24.93885  121.50383                      18.6  \n",
       "329  24.93885  121.50383                      19.2  \n",
       "331  24.94826  121.49587                      15.6  \n",
       "347  24.95719  121.47353                      11.2  \n",
       "382  24.93207  121.51597                      29.3  \n",
       "384  24.94297  121.50342                      12.9  \n",
       "394  24.95544  121.49630                      24.7  \n",
       "409  24.94155  121.50381                      15.4  "
      ]
     },
     "execution_count": 20,
     "metadata": {},
     "output_type": "execute_result"
    }
   ],
   "source": [
    "df2.loc[df2['Distance from nearest Metro station (km)']>maximum]"
   ]
  },
  {
   "cell_type": "code",
   "execution_count": 21,
   "id": "76ed8c57",
   "metadata": {},
   "outputs": [
    {
     "data": {
      "text/plain": [
       "(37, 5)"
      ]
     },
     "execution_count": 21,
     "metadata": {},
     "output_type": "execute_result"
    }
   ],
   "source": [
    "df2.loc[df2['Distance from nearest Metro station (km)']>maximum].shape"
   ]
  },
  {
   "cell_type": "markdown",
   "id": "0dcb6b46",
   "metadata": {},
   "source": [
    "there are 37 records where the nearest station is greater than the maximum value i.e outliers. lets not elminate the these values as we got only 414 records\n",
    "which is quite a low number of records for training the model. so we will replace with maximum value."
   ]
  },
  {
   "cell_type": "code",
   "execution_count": 22,
   "id": "889d8a6e",
   "metadata": {},
   "outputs": [],
   "source": [
    "df2['Distance from nearest Metro station (km)'].values[df2['Distance from nearest Metro station (km)'].values > maximum] = maximum"
   ]
  },
  {
   "cell_type": "markdown",
   "id": "70a75ce6",
   "metadata": {},
   "source": [
    "so we have replaced values greater than maximum value (3201.7103) with maximum value "
   ]
  },
  {
   "cell_type": "code",
   "execution_count": 23,
   "id": "8c088531",
   "metadata": {},
   "outputs": [
    {
     "data": {
      "text/plain": [
       "array([10,  9,  5,  3,  7,  6,  1,  4,  2,  8,  0], dtype=int64)"
      ]
     },
     "execution_count": 23,
     "metadata": {},
     "output_type": "execute_result"
    }
   ],
   "source": [
    "df2['Number of convenience stores'].unique()"
   ]
  },
  {
   "cell_type": "code",
   "execution_count": 24,
   "id": "dd0126a6",
   "metadata": {},
   "outputs": [
    {
     "data": {
      "text/plain": [
       "array([ 37.9,  42.2,  47.3,  54.8,  43.1,  32.1,  40.3,  46.7,  18.8,\n",
       "        22.1,  41.4,  58.1,  39.3,  23.8,  34.3,  50.5,  70.1,  37.4,\n",
       "        42.3,  47.7,  29.3,  51.6,  24.6,  47.9,  38.8,  27. ,  56.2,\n",
       "        33.6,  47. ,  57.1,  25. ,  34.2,  49.3,  55.1,  27.3,  22.9,\n",
       "        25.3,  46.2,  15.9,  18.2,  34.7,  34.1,  53.9,  38.3,  42. ,\n",
       "        61.5,  13.4,  13.2,  44.2,  20.7,  38.9,  51.7,  13.7,  41.9,\n",
       "        53.5,  22.6,  42.4,  21.3,  63.2,  27.7,  55. ,  44.3,  50.7,\n",
       "        56.8,  36.2,  59. ,  40.8,  36.3,  20. ,  54.4,  29.5,  36.8,\n",
       "        25.6,  29.8,  26.5,  48.1,  17.7,  43.7,  50.8,  18.3,  48. ,\n",
       "        45.4,  43.2,  21.8,  16.1,  41. ,  51.8,  59.5,  34.6,  51. ,\n",
       "        62.2,  38.2,  32.9,  45.7,  30.5,  71. ,  47.1,  26.6,  28.4,\n",
       "        39.4,  23.1,   7.6,  53.3,  46.4,  12.2,  13. ,  30.6,  59.6,\n",
       "        31.3,  32.5,  45.5,  57.4,  48.6,  62.9,  60.7,  37.5,  30.7,\n",
       "        39.5,  20.8,  46.8,  47.4,  43.5,  42.5,  51.4,  28.9,  40.1,\n",
       "        52.2,  45.1,  39.7,  48.5,  44.7,  40.9,  15.6,  35.6,  57.8,\n",
       "        39.6,  11.6,  55.5,  55.2,  73.6,  43.4,  23.5,  14.4,  58.8,\n",
       "        35.1,  45.2,  36.5,  19.2,  36.7,  42.6,  15.5,  55.9,  23.6,\n",
       "        21.5,  25.7,  22. ,  20.5,  37.8,  42.7,  36.6,  48.2,  39.1,\n",
       "        31.6,  25.5,  45.9,  31.5,  46.1,  21.4,  44. ,  26.2,  31.1,\n",
       "        58. ,  20.9,  43.8,  40.2,  78.3,  38.5,  46. ,  49. ,  12.8,\n",
       "        46.6,  19. ,  33.4,  14.7,  17.4,  32.4,  23.9,  61.9,  39. ,\n",
       "        40.6,  29.7,  28.8,  21.7,  22.3,  15. ,  30. ,  13.8,  52.7,\n",
       "        25.9,  43.9,  63.3,  24.4,  53. ,  31.7,  38.1,  23.7,  41.1,\n",
       "        23. , 117.5,  40.5,  49.7,  34. ,  44.8,  34.4,  55.3,  56.3,\n",
       "        44.5,  37. ,  24.5,  28.5,  16.7,  36.9,  35.7,  23.2,  38.4,\n",
       "        29.4,  50.2,  24.7,  19.1,  78. ,  42.8,  41.6,  49.8,  26.9,\n",
       "        18.6,  37.7,  33.1,  62.1,  22.8,  30.9,  50.4,  42.9,  41.2,\n",
       "        30.8,  11.2,  53.7,  28.6,  30.1,  45.3,  44.9,  40. ,  24.8,\n",
       "        42.1,  41.5,  49.5,  69.7,  12.9,  67.7,  38.6,  35.3,  31.9,\n",
       "        32.2,  37.3,  35.5,  37.2,  28.1,  15.4,  50. ,  52.5,  63.9])"
      ]
     },
     "execution_count": 24,
     "metadata": {},
     "output_type": "execute_result"
    }
   ],
   "source": [
    "df2['House price of unit area'].unique()"
   ]
  },
  {
   "cell_type": "markdown",
   "id": "c2801fa7",
   "metadata": {},
   "source": [
    "All other features  except distance from nearest metro station are realiable and fine"
   ]
  },
  {
   "cell_type": "raw",
   "id": "f65e5df9",
   "metadata": {},
   "source": [
    "Observations:\n",
    "    1. From pairplots;except target variable 'House price of Unit area' all other variables are not perfect gaussian distributed\n",
    "    2. since features are widely varying like Distance from nearest station is varying between 100-3000km, whereas \n",
    "       other features have values less than 100\n",
    "    3. so we need to standardize the given data\n",
    "    4. Since features are not following gaussian distribution so we can go with standardization of the data."
   ]
  },
  {
   "cell_type": "code",
   "execution_count": 25,
   "id": "9d1e3f83",
   "metadata": {},
   "outputs": [],
   "source": [
    "#importing required libraries\n",
    "from sklearn.preprocessing import StandardScaler\n",
    "from sklearn.model_selection import KFold\n",
    "from sklearn.model_selection import cross_val_score\n",
    "from sklearn.model_selection import train_test_split\n",
    "from sklearn.model_selection import ShuffleSplit\n",
    "from sklearn.model_selection import GridSearchCV\n",
    "from sklearn.metrics import r2_score, mean_squared_error\n",
    "\n",
    "\n",
    "from sklearn.linear_model import Lasso\n",
    "from sklearn.tree import DecisionTreeRegressor\n",
    "from sklearn.linear_model import LinearRegression\n",
    "from sklearn.linear_model import Ridge\n",
    "from sklearn.ensemble import RandomForestRegressor\n",
    "from sklearn.ensemble import GradientBoostingRegressor\n"
   ]
  },
  {
   "cell_type": "code",
   "execution_count": 26,
   "id": "f6d59ba6",
   "metadata": {},
   "outputs": [
    {
     "data": {
      "text/html": [
       "<div>\n",
       "<style scoped>\n",
       "    .dataframe tbody tr th:only-of-type {\n",
       "        vertical-align: middle;\n",
       "    }\n",
       "\n",
       "    .dataframe tbody tr th {\n",
       "        vertical-align: top;\n",
       "    }\n",
       "\n",
       "    .dataframe thead th {\n",
       "        text-align: right;\n",
       "    }\n",
       "</style>\n",
       "<table border=\"1\" class=\"dataframe\">\n",
       "  <thead>\n",
       "    <tr style=\"text-align: right;\">\n",
       "      <th></th>\n",
       "      <th>Distance from nearest Metro station (km)</th>\n",
       "      <th>Number of convenience stores</th>\n",
       "      <th>latitude</th>\n",
       "      <th>longitude</th>\n",
       "      <th>House price of unit area</th>\n",
       "    </tr>\n",
       "  </thead>\n",
       "  <tbody>\n",
       "    <tr>\n",
       "      <th>0</th>\n",
       "      <td>-0.919320</td>\n",
       "      <td>2.007407</td>\n",
       "      <td>1.125430</td>\n",
       "      <td>0.448762</td>\n",
       "      <td>-0.005901</td>\n",
       "    </tr>\n",
       "    <tr>\n",
       "      <th>1</th>\n",
       "      <td>-0.690214</td>\n",
       "      <td>1.667503</td>\n",
       "      <td>0.912444</td>\n",
       "      <td>0.401139</td>\n",
       "      <td>0.310507</td>\n",
       "    </tr>\n",
       "    <tr>\n",
       "      <th>2</th>\n",
       "      <td>-0.426312</td>\n",
       "      <td>0.307885</td>\n",
       "      <td>1.486860</td>\n",
       "      <td>0.688183</td>\n",
       "      <td>0.685782</td>\n",
       "    </tr>\n",
       "    <tr>\n",
       "      <th>3</th>\n",
       "      <td>-0.426312</td>\n",
       "      <td>0.307885</td>\n",
       "      <td>1.486860</td>\n",
       "      <td>0.688183</td>\n",
       "      <td>1.237656</td>\n",
       "    </tr>\n",
       "    <tr>\n",
       "      <th>4</th>\n",
       "      <td>-0.603441</td>\n",
       "      <td>0.307885</td>\n",
       "      <td>0.834188</td>\n",
       "      <td>0.592937</td>\n",
       "      <td>0.376732</td>\n",
       "    </tr>\n",
       "  </tbody>\n",
       "</table>\n",
       "</div>"
      ],
      "text/plain": [
       "   Distance from nearest Metro station (km)  Number of convenience stores  \\\n",
       "0                                 -0.919320                      2.007407   \n",
       "1                                 -0.690214                      1.667503   \n",
       "2                                 -0.426312                      0.307885   \n",
       "3                                 -0.426312                      0.307885   \n",
       "4                                 -0.603441                      0.307885   \n",
       "\n",
       "   latitude  longitude  House price of unit area  \n",
       "0  1.125430   0.448762                 -0.005901  \n",
       "1  0.912444   0.401139                  0.310507  \n",
       "2  1.486860   0.688183                  0.685782  \n",
       "3  1.486860   0.688183                  1.237656  \n",
       "4  0.834188   0.592937                  0.376732  "
      ]
     },
     "execution_count": 26,
     "metadata": {},
     "output_type": "execute_result"
    }
   ],
   "source": [
    "df2_cpy= df2.copy()\n",
    "scaler= StandardScaler()\n",
    "col= df2_cpy.columns\n",
    "df2_cpy= scaler.fit_transform(df2_cpy)\n",
    "df2_cpy=pd.DataFrame(df2_cpy,columns=col)\n",
    "\n",
    "df2_cpy.head()"
   ]
  },
  {
   "cell_type": "code",
   "execution_count": 27,
   "id": "d9912d0e",
   "metadata": {},
   "outputs": [
    {
     "data": {
      "text/html": [
       "<div>\n",
       "<style scoped>\n",
       "    .dataframe tbody tr th:only-of-type {\n",
       "        vertical-align: middle;\n",
       "    }\n",
       "\n",
       "    .dataframe tbody tr th {\n",
       "        vertical-align: top;\n",
       "    }\n",
       "\n",
       "    .dataframe thead th {\n",
       "        text-align: right;\n",
       "    }\n",
       "</style>\n",
       "<table border=\"1\" class=\"dataframe\">\n",
       "  <thead>\n",
       "    <tr style=\"text-align: right;\">\n",
       "      <th></th>\n",
       "      <th>Distance from nearest Metro station (km)</th>\n",
       "      <th>Number of convenience stores</th>\n",
       "      <th>latitude</th>\n",
       "      <th>longitude</th>\n",
       "    </tr>\n",
       "  </thead>\n",
       "  <tbody>\n",
       "    <tr>\n",
       "      <th>0</th>\n",
       "      <td>-0.919320</td>\n",
       "      <td>2.007407</td>\n",
       "      <td>1.125430</td>\n",
       "      <td>0.448762</td>\n",
       "    </tr>\n",
       "    <tr>\n",
       "      <th>1</th>\n",
       "      <td>-0.690214</td>\n",
       "      <td>1.667503</td>\n",
       "      <td>0.912444</td>\n",
       "      <td>0.401139</td>\n",
       "    </tr>\n",
       "    <tr>\n",
       "      <th>2</th>\n",
       "      <td>-0.426312</td>\n",
       "      <td>0.307885</td>\n",
       "      <td>1.486860</td>\n",
       "      <td>0.688183</td>\n",
       "    </tr>\n",
       "    <tr>\n",
       "      <th>3</th>\n",
       "      <td>-0.426312</td>\n",
       "      <td>0.307885</td>\n",
       "      <td>1.486860</td>\n",
       "      <td>0.688183</td>\n",
       "    </tr>\n",
       "    <tr>\n",
       "      <th>4</th>\n",
       "      <td>-0.603441</td>\n",
       "      <td>0.307885</td>\n",
       "      <td>0.834188</td>\n",
       "      <td>0.592937</td>\n",
       "    </tr>\n",
       "  </tbody>\n",
       "</table>\n",
       "</div>"
      ],
      "text/plain": [
       "   Distance from nearest Metro station (km)  Number of convenience stores  \\\n",
       "0                                 -0.919320                      2.007407   \n",
       "1                                 -0.690214                      1.667503   \n",
       "2                                 -0.426312                      0.307885   \n",
       "3                                 -0.426312                      0.307885   \n",
       "4                                 -0.603441                      0.307885   \n",
       "\n",
       "   latitude  longitude  \n",
       "0  1.125430   0.448762  \n",
       "1  0.912444   0.401139  \n",
       "2  1.486860   0.688183  \n",
       "3  1.486860   0.688183  \n",
       "4  0.834188   0.592937  "
      ]
     },
     "execution_count": 27,
     "metadata": {},
     "output_type": "execute_result"
    }
   ],
   "source": [
    "#spliting  train and test data\n",
    "y= df2_cpy['House price of unit area']\n",
    "X= df2_cpy.drop(['House price of unit area'],axis=1)\n",
    "\n",
    "X.head()"
   ]
  },
  {
   "cell_type": "code",
   "execution_count": 28,
   "id": "4ce435b7",
   "metadata": {},
   "outputs": [
    {
     "data": {
      "text/plain": [
       "0   -0.005901\n",
       "1    0.310507\n",
       "2    0.685782\n",
       "3    1.237656\n",
       "4    0.376732\n",
       "Name: House price of unit area, dtype: float64"
      ]
     },
     "execution_count": 28,
     "metadata": {},
     "output_type": "execute_result"
    }
   ],
   "source": [
    "y.head()"
   ]
  },
  {
   "cell_type": "code",
   "execution_count": 29,
   "id": "4b2af150",
   "metadata": {},
   "outputs": [
    {
     "data": {
      "text/html": [
       "<div>\n",
       "<style scoped>\n",
       "    .dataframe tbody tr th:only-of-type {\n",
       "        vertical-align: middle;\n",
       "    }\n",
       "\n",
       "    .dataframe tbody tr th {\n",
       "        vertical-align: top;\n",
       "    }\n",
       "\n",
       "    .dataframe thead th {\n",
       "        text-align: right;\n",
       "    }\n",
       "</style>\n",
       "<table border=\"1\" class=\"dataframe\">\n",
       "  <thead>\n",
       "    <tr style=\"text-align: right;\">\n",
       "      <th></th>\n",
       "      <th>Distance from nearest Metro station (km)</th>\n",
       "      <th>Number of convenience stores</th>\n",
       "      <th>latitude</th>\n",
       "      <th>longitude</th>\n",
       "    </tr>\n",
       "  </thead>\n",
       "  <tbody>\n",
       "    <tr>\n",
       "      <th>192</th>\n",
       "      <td>-0.947519</td>\n",
       "      <td>0.987694</td>\n",
       "      <td>-0.123441</td>\n",
       "      <td>0.478119</td>\n",
       "    </tr>\n",
       "    <tr>\n",
       "      <th>234</th>\n",
       "      <td>1.283464</td>\n",
       "      <td>-0.032020</td>\n",
       "      <td>-0.722866</td>\n",
       "      <td>-1.288509</td>\n",
       "    </tr>\n",
       "    <tr>\n",
       "      <th>5</th>\n",
       "      <td>1.240496</td>\n",
       "      <td>-0.371925</td>\n",
       "      <td>-0.482451</td>\n",
       "      <td>-1.358313</td>\n",
       "    </tr>\n",
       "    <tr>\n",
       "      <th>45</th>\n",
       "      <td>-0.501916</td>\n",
       "      <td>1.327598</td>\n",
       "      <td>0.090352</td>\n",
       "      <td>0.755378</td>\n",
       "    </tr>\n",
       "    <tr>\n",
       "      <th>245</th>\n",
       "      <td>-0.346089</td>\n",
       "      <td>0.307885</td>\n",
       "      <td>0.286395</td>\n",
       "      <td>0.964137</td>\n",
       "    </tr>\n",
       "    <tr>\n",
       "      <th>...</th>\n",
       "      <td>...</td>\n",
       "      <td>...</td>\n",
       "      <td>...</td>\n",
       "      <td>...</td>\n",
       "    </tr>\n",
       "    <tr>\n",
       "      <th>71</th>\n",
       "      <td>-0.344933</td>\n",
       "      <td>-0.371925</td>\n",
       "      <td>0.532458</td>\n",
       "      <td>0.247179</td>\n",
       "    </tr>\n",
       "    <tr>\n",
       "      <th>106</th>\n",
       "      <td>-0.811193</td>\n",
       "      <td>1.327598</td>\n",
       "      <td>0.648632</td>\n",
       "      <td>0.634036</td>\n",
       "    </tr>\n",
       "    <tr>\n",
       "      <th>270</th>\n",
       "      <td>-0.746027</td>\n",
       "      <td>-1.051734</td>\n",
       "      <td>0.449362</td>\n",
       "      <td>-0.189259</td>\n",
       "    </tr>\n",
       "    <tr>\n",
       "      <th>348</th>\n",
       "      <td>-0.738712</td>\n",
       "      <td>0.647789</td>\n",
       "      <td>0.550207</td>\n",
       "      <td>0.769730</td>\n",
       "    </tr>\n",
       "    <tr>\n",
       "      <th>102</th>\n",
       "      <td>-0.806991</td>\n",
       "      <td>0.647789</td>\n",
       "      <td>-0.267851</td>\n",
       "      <td>0.491167</td>\n",
       "    </tr>\n",
       "  </tbody>\n",
       "</table>\n",
       "<p>331 rows × 4 columns</p>\n",
       "</div>"
      ],
      "text/plain": [
       "     Distance from nearest Metro station (km)  Number of convenience stores  \\\n",
       "192                                 -0.947519                      0.987694   \n",
       "234                                  1.283464                     -0.032020   \n",
       "5                                    1.240496                     -0.371925   \n",
       "45                                  -0.501916                      1.327598   \n",
       "245                                 -0.346089                      0.307885   \n",
       "..                                        ...                           ...   \n",
       "71                                  -0.344933                     -0.371925   \n",
       "106                                 -0.811193                      1.327598   \n",
       "270                                 -0.746027                     -1.051734   \n",
       "348                                 -0.738712                      0.647789   \n",
       "102                                 -0.806991                      0.647789   \n",
       "\n",
       "     latitude  longitude  \n",
       "192 -0.123441   0.478119  \n",
       "234 -0.722866  -1.288509  \n",
       "5   -0.482451  -1.358313  \n",
       "45   0.090352   0.755378  \n",
       "245  0.286395   0.964137  \n",
       "..        ...        ...  \n",
       "71   0.532458   0.247179  \n",
       "106  0.648632   0.634036  \n",
       "270  0.449362  -0.189259  \n",
       "348  0.550207   0.769730  \n",
       "102 -0.267851   0.491167  \n",
       "\n",
       "[331 rows x 4 columns]"
      ]
     },
     "execution_count": 29,
     "metadata": {},
     "output_type": "execute_result"
    }
   ],
   "source": [
    "X_train,X_test,y_train,y_test= train_test_split(X,y, test_size=0.2,random_state=42)\n",
    "X_train"
   ]
  },
  {
   "cell_type": "code",
   "execution_count": 30,
   "id": "2b03efa0",
   "metadata": {},
   "outputs": [
    {
     "data": {
      "text/html": [
       "<div>\n",
       "<style scoped>\n",
       "    .dataframe tbody tr th:only-of-type {\n",
       "        vertical-align: middle;\n",
       "    }\n",
       "\n",
       "    .dataframe tbody tr th {\n",
       "        vertical-align: top;\n",
       "    }\n",
       "\n",
       "    .dataframe thead th {\n",
       "        text-align: right;\n",
       "    }\n",
       "</style>\n",
       "<table border=\"1\" class=\"dataframe\">\n",
       "  <thead>\n",
       "    <tr style=\"text-align: right;\">\n",
       "      <th></th>\n",
       "      <th>Distance from nearest Metro station (km)</th>\n",
       "      <th>Number of convenience stores</th>\n",
       "      <th>latitude</th>\n",
       "      <th>longitude</th>\n",
       "    </tr>\n",
       "  </thead>\n",
       "  <tbody>\n",
       "    <tr>\n",
       "      <th>358</th>\n",
       "      <td>-0.806991</td>\n",
       "      <td>0.647789</td>\n",
       "      <td>-0.267851</td>\n",
       "      <td>0.491167</td>\n",
       "    </tr>\n",
       "    <tr>\n",
       "      <th>350</th>\n",
       "      <td>-0.498390</td>\n",
       "      <td>0.307885</td>\n",
       "      <td>-0.313030</td>\n",
       "      <td>0.261531</td>\n",
       "    </tr>\n",
       "    <tr>\n",
       "      <th>373</th>\n",
       "      <td>-0.723880</td>\n",
       "      <td>-1.051734</td>\n",
       "      <td>0.465497</td>\n",
       "      <td>-0.180778</td>\n",
       "    </tr>\n",
       "    <tr>\n",
       "      <th>399</th>\n",
       "      <td>-0.831228</td>\n",
       "      <td>-1.051734</td>\n",
       "      <td>0.377560</td>\n",
       "      <td>-0.229706</td>\n",
       "    </tr>\n",
       "    <tr>\n",
       "      <th>369</th>\n",
       "      <td>1.250931</td>\n",
       "      <td>-0.371925</td>\n",
       "      <td>-0.468736</td>\n",
       "      <td>-1.369403</td>\n",
       "    </tr>\n",
       "    <tr>\n",
       "      <th>...</th>\n",
       "      <td>...</td>\n",
       "      <td>...</td>\n",
       "      <td>...</td>\n",
       "      <td>...</td>\n",
       "    </tr>\n",
       "    <tr>\n",
       "      <th>31</th>\n",
       "      <td>-0.211980</td>\n",
       "      <td>0.987694</td>\n",
       "      <td>1.111715</td>\n",
       "      <td>0.046900</td>\n",
       "    </tr>\n",
       "    <tr>\n",
       "      <th>283</th>\n",
       "      <td>1.037593</td>\n",
       "      <td>-0.711829</td>\n",
       "      <td>1.428773</td>\n",
       "      <td>-0.973413</td>\n",
       "    </tr>\n",
       "    <tr>\n",
       "      <th>157</th>\n",
       "      <td>-0.163901</td>\n",
       "      <td>-0.032020</td>\n",
       "      <td>0.793043</td>\n",
       "      <td>0.083433</td>\n",
       "    </tr>\n",
       "    <tr>\n",
       "      <th>203</th>\n",
       "      <td>-0.708060</td>\n",
       "      <td>0.307885</td>\n",
       "      <td>1.048787</td>\n",
       "      <td>0.660131</td>\n",
       "    </tr>\n",
       "    <tr>\n",
       "      <th>208</th>\n",
       "      <td>0.398445</td>\n",
       "      <td>-1.051734</td>\n",
       "      <td>-1.370698</td>\n",
       "      <td>0.982404</td>\n",
       "    </tr>\n",
       "  </tbody>\n",
       "</table>\n",
       "<p>83 rows × 4 columns</p>\n",
       "</div>"
      ],
      "text/plain": [
       "     Distance from nearest Metro station (km)  Number of convenience stores  \\\n",
       "358                                 -0.806991                      0.647789   \n",
       "350                                 -0.498390                      0.307885   \n",
       "373                                 -0.723880                     -1.051734   \n",
       "399                                 -0.831228                     -1.051734   \n",
       "369                                  1.250931                     -0.371925   \n",
       "..                                        ...                           ...   \n",
       "31                                  -0.211980                      0.987694   \n",
       "283                                  1.037593                     -0.711829   \n",
       "157                                 -0.163901                     -0.032020   \n",
       "203                                 -0.708060                      0.307885   \n",
       "208                                  0.398445                     -1.051734   \n",
       "\n",
       "     latitude  longitude  \n",
       "358 -0.267851   0.491167  \n",
       "350 -0.313030   0.261531  \n",
       "373  0.465497  -0.180778  \n",
       "399  0.377560  -0.229706  \n",
       "369 -0.468736  -1.369403  \n",
       "..        ...        ...  \n",
       "31   1.111715   0.046900  \n",
       "283  1.428773  -0.973413  \n",
       "157  0.793043   0.083433  \n",
       "203  1.048787   0.660131  \n",
       "208 -1.370698   0.982404  \n",
       "\n",
       "[83 rows x 4 columns]"
      ]
     },
     "execution_count": 30,
     "metadata": {},
     "output_type": "execute_result"
    }
   ],
   "source": [
    "X_test"
   ]
  },
  {
   "cell_type": "code",
   "execution_count": 31,
   "id": "e7ac3900",
   "metadata": {},
   "outputs": [
    {
     "data": {
      "text/plain": [
       "358    0.523899\n",
       "350    0.317866\n",
       "373    1.046340\n",
       "399   -0.050051\n",
       "369   -1.117008\n",
       "         ...   \n",
       "31    -0.955125\n",
       "283   -1.065500\n",
       "157   -0.175142\n",
       "203    0.597482\n",
       "208   -0.866825\n",
       "Name: House price of unit area, Length: 83, dtype: float64"
      ]
     },
     "execution_count": 31,
     "metadata": {},
     "output_type": "execute_result"
    }
   ],
   "source": [
    "y_test"
   ]
  },
  {
   "cell_type": "markdown",
   "id": "1666e95e",
   "metadata": {},
   "source": [
    "Now we are set to train model"
   ]
  },
  {
   "cell_type": "raw",
   "id": "4c072a5c",
   "metadata": {},
   "source": [
    "since it is clear that it is kind off regression problem statement. so we are using regression models for training"
   ]
  },
  {
   "cell_type": "code",
   "execution_count": 32,
   "id": "fcab0432",
   "metadata": {},
   "outputs": [
    {
     "data": {
      "text/plain": [
       "LinearRegression()"
      ]
     },
     "execution_count": 32,
     "metadata": {},
     "output_type": "execute_result"
    }
   ],
   "source": [
    "model_linear= LinearRegression()\n",
    "model_linear.fit(X_train,y_train)"
   ]
  },
  {
   "cell_type": "code",
   "execution_count": 33,
   "id": "4bbb33a6",
   "metadata": {},
   "outputs": [
    {
     "data": {
      "text/plain": [
       "0.6463788839470123"
      ]
     },
     "execution_count": 33,
     "metadata": {},
     "output_type": "execute_result"
    }
   ],
   "source": [
    "model_linear.score(X_test,y_test)"
   ]
  },
  {
   "cell_type": "code",
   "execution_count": 34,
   "id": "aeb4febd",
   "metadata": {},
   "outputs": [
    {
     "name": "stdout",
     "output_type": "stream",
     "text": [
      "[0.651211   0.64703383 0.55048461 0.36048345 0.65914561 0.60657502\n",
      " 0.2780035  0.55788649 0.57541034 0.54137587]\n"
     ]
    }
   ],
   "source": [
    "kfolds = KFold(n_splits=10)\n",
    "score = cross_val_score(model_linear, X, y, cv=kfolds)\n",
    "print(score)"
   ]
  },
  {
   "cell_type": "code",
   "execution_count": 35,
   "id": "1706aaa5",
   "metadata": {},
   "outputs": [
    {
     "data": {
      "text/plain": [
       "0.5427609716320149"
      ]
     },
     "execution_count": 35,
     "metadata": {},
     "output_type": "execute_result"
    }
   ],
   "source": [
    "score.mean()"
   ]
  },
  {
   "cell_type": "markdown",
   "id": "a2ab062f",
   "metadata": {},
   "source": [
    "the model is not upto the mark. so lets try few more models. We will use gridsearchcv for model selection"
   ]
  },
  {
   "cell_type": "code",
   "execution_count": 36,
   "id": "67b30ac7",
   "metadata": {},
   "outputs": [
    {
     "data": {
      "text/html": [
       "<div>\n",
       "<style scoped>\n",
       "    .dataframe tbody tr th:only-of-type {\n",
       "        vertical-align: middle;\n",
       "    }\n",
       "\n",
       "    .dataframe tbody tr th {\n",
       "        vertical-align: top;\n",
       "    }\n",
       "\n",
       "    .dataframe thead th {\n",
       "        text-align: right;\n",
       "    }\n",
       "</style>\n",
       "<table border=\"1\" class=\"dataframe\">\n",
       "  <thead>\n",
       "    <tr style=\"text-align: right;\">\n",
       "      <th></th>\n",
       "      <th>model</th>\n",
       "      <th>best_score</th>\n",
       "      <th>best_params</th>\n",
       "    </tr>\n",
       "  </thead>\n",
       "  <tbody>\n",
       "    <tr>\n",
       "      <th>0</th>\n",
       "      <td>linear_regression</td>\n",
       "      <td>0.542061</td>\n",
       "      <td>{'normalize': True}</td>\n",
       "    </tr>\n",
       "    <tr>\n",
       "      <th>1</th>\n",
       "      <td>lasso</td>\n",
       "      <td>-0.030766</td>\n",
       "      <td>{'alpha': 1, 'selection': 'random'}</td>\n",
       "    </tr>\n",
       "    <tr>\n",
       "      <th>2</th>\n",
       "      <td>ridge</td>\n",
       "      <td>0.542259</td>\n",
       "      <td>{'alpha': 2}</td>\n",
       "    </tr>\n",
       "    <tr>\n",
       "      <th>3</th>\n",
       "      <td>decision</td>\n",
       "      <td>0.595221</td>\n",
       "      <td>{'criterion': 'friedman_mse', 'splitter': 'ran...</td>\n",
       "    </tr>\n",
       "  </tbody>\n",
       "</table>\n",
       "</div>"
      ],
      "text/plain": [
       "               model  best_score  \\\n",
       "0  linear_regression    0.542061   \n",
       "1              lasso   -0.030766   \n",
       "2              ridge    0.542259   \n",
       "3           decision    0.595221   \n",
       "\n",
       "                                         best_params  \n",
       "0                                {'normalize': True}  \n",
       "1                {'alpha': 1, 'selection': 'random'}  \n",
       "2                                       {'alpha': 2}  \n",
       "3  {'criterion': 'friedman_mse', 'splitter': 'ran...  "
      ]
     },
     "execution_count": 36,
     "metadata": {},
     "output_type": "execute_result"
    }
   ],
   "source": [
    "from sklearn.model_selection import ShuffleSplit\n",
    "from sklearn.model_selection import GridSearchCV\n",
    "\n",
    "def find_best_model_using_gridsearchcv(X,y):\n",
    "    algos = {\n",
    "        'linear_regression' : {\n",
    "            'model': LinearRegression(),\n",
    "            'params': {\n",
    "                'normalize': [True, False]\n",
    "            }\n",
    "        },\n",
    "        'lasso': {\n",
    "            'model': Lasso(),\n",
    "            'params': {\n",
    "                'alpha': [1,2],\n",
    "                'selection': ['random', 'cyclic']\n",
    "            }\n",
    "        },\n",
    "         'ridge': {\n",
    "            'model': Ridge(),\n",
    "            'params': {\n",
    "                'alpha': [1,2]\n",
    "            }\n",
    "        },\n",
    "        'decision':{\n",
    "            'model':DecisionTreeRegressor(),\n",
    "            'params':{\n",
    "                'criterion' : ['mse','friedman_mse'],\n",
    "                'splitter': ['best','random']\n",
    "                \n",
    "            }\n",
    "        }\n",
    "                  \n",
    "    }\n",
    "    scores = []\n",
    "    cv = ShuffleSplit(n_splits=5, test_size=0.2, random_state=0)\n",
    "    for algo_name, config in algos.items():\n",
    "        gs =  GridSearchCV(config['model'], config['params'], cv=cv, return_train_score=False)\n",
    "        gs.fit(X,y)\n",
    "        scores.append({\n",
    "            'model': algo_name,\n",
    "            'best_score': gs.best_score_,\n",
    "            'best_params': gs.best_params_\n",
    "        })\n",
    "\n",
    "    return pd.DataFrame(scores,columns=['model','best_score','best_params'])\n",
    "\n",
    "find_best_model_using_gridsearchcv(X,y)"
   ]
  },
  {
   "cell_type": "markdown",
   "id": "de13807a",
   "metadata": {},
   "source": [
    "which is okay so we will try ensemble technique "
   ]
  },
  {
   "cell_type": "code",
   "execution_count": 37,
   "id": "5374ff68",
   "metadata": {},
   "outputs": [
    {
     "data": {
      "text/plain": [
       "dict_keys(['ccp_alpha', 'criterion', 'max_depth', 'max_features', 'max_leaf_nodes', 'min_impurity_decrease', 'min_impurity_split', 'min_samples_leaf', 'min_samples_split', 'min_weight_fraction_leaf', 'random_state', 'splitter'])"
      ]
     },
     "execution_count": 37,
     "metadata": {},
     "output_type": "execute_result"
    }
   ],
   "source": [
    "DecisionTreeRegressor().get_params().keys()"
   ]
  },
  {
   "cell_type": "code",
   "execution_count": 38,
   "id": "677ff19b",
   "metadata": {},
   "outputs": [
    {
     "data": {
      "text/plain": [
       "RandomForestRegressor(random_state=42)"
      ]
     },
     "execution_count": 38,
     "metadata": {},
     "output_type": "execute_result"
    }
   ],
   "source": [
    "model_random=RandomForestRegressor(n_estimators = 100, random_state = 42)\n",
    "model_random.fit(X_train,y_train)\n",
    "  "
   ]
  },
  {
   "cell_type": "code",
   "execution_count": 39,
   "id": "fa802fe4",
   "metadata": {},
   "outputs": [
    {
     "data": {
      "text/plain": [
       "0.7753705391504898"
      ]
     },
     "execution_count": 39,
     "metadata": {},
     "output_type": "execute_result"
    }
   ],
   "source": [
    "model_random.score(X_test,y_test)"
   ]
  },
  {
   "cell_type": "code",
   "execution_count": 40,
   "id": "86abf9ec",
   "metadata": {},
   "outputs": [
    {
     "data": {
      "text/plain": [
       "GradientBoostingRegressor(max_depth=5, n_estimators=400)"
      ]
     },
     "execution_count": 40,
     "metadata": {},
     "output_type": "execute_result"
    }
   ],
   "source": [
    "model_gradient=GradientBoostingRegressor(n_estimators = 400, max_depth = 5, min_samples_split = 2,learning_rate = 0.1, loss = 'ls')\n",
    "model_gradient.fit(X_train,y_train)"
   ]
  },
  {
   "cell_type": "code",
   "execution_count": 41,
   "id": "db6b110d",
   "metadata": {},
   "outputs": [
    {
     "data": {
      "text/plain": [
       "0.7569652867594046"
      ]
     },
     "execution_count": 41,
     "metadata": {},
     "output_type": "execute_result"
    }
   ],
   "source": [
    "model_gradient.score(X_test,y_test)"
   ]
  },
  {
   "cell_type": "markdown",
   "id": "9e681f88",
   "metadata": {},
   "source": [
    "lets try tuning gradient boosting regressor"
   ]
  },
  {
   "cell_type": "code",
   "execution_count": 43,
   "id": "20978258",
   "metadata": {},
   "outputs": [],
   "source": [
    "parameters = {'learning_rate': [0.01,0.02,0.03,0.04],\n",
    "                  'subsample'    : [0.9, 0.5, 0.2, 0.1],\n",
    "                  'n_estimators' : range(100, 1500),\n",
    "                  'max_depth'    : (4,6,8,10)\n",
    "                 }"
   ]
  },
  {
   "cell_type": "code",
   "execution_count": 49,
   "id": "fbec887b",
   "metadata": {},
   "outputs": [
    {
     "data": {
      "text/plain": [
       "GridSearchCV(cv=2,\n",
       "             estimator=GradientBoostingRegressor(max_depth=5, n_estimators=400),\n",
       "             n_jobs=-1,\n",
       "             param_grid={'learning_rate': [0.01, 0.02, 0.03, 0.04],\n",
       "                         'max_depth': [4, 6, 8, 10],\n",
       "                         'n_estimators': [100, 500, 1000, 1500],\n",
       "                         'subsample': [0.9, 0.5, 0.2, 0.1]})"
      ]
     },
     "execution_count": 49,
     "metadata": {},
     "output_type": "execute_result"
    }
   ],
   "source": [
    "grid_GBR = GridSearchCV(estimator=model_gradient, param_grid = parameters, cv = 2, n_jobs=-1)\n",
    "grid_GBR.fit(X_train, y_train)"
   ]
  },
  {
   "cell_type": "code",
   "execution_count": 46,
   "id": "281abb9d",
   "metadata": {},
   "outputs": [
    {
     "data": {
      "text/plain": [
       "{'learning_rate': 0.03, 'max_depth': 6, 'n_estimators': 100, 'subsample': 0.2}"
      ]
     },
     "execution_count": 46,
     "metadata": {},
     "output_type": "execute_result"
    }
   ],
   "source": [
    "grid_GBR.best_params_"
   ]
  },
  {
   "cell_type": "code",
   "execution_count": 50,
   "id": "e799ad37",
   "metadata": {},
   "outputs": [
    {
     "data": {
      "text/plain": [
       "0.6144574938439333"
      ]
     },
     "execution_count": 50,
     "metadata": {},
     "output_type": "execute_result"
    }
   ],
   "source": [
    "grid_GBR.best_score_"
   ]
  },
  {
   "cell_type": "code",
   "execution_count": 51,
   "id": "5b58f290",
   "metadata": {},
   "outputs": [
    {
     "data": {
      "text/plain": [
       "GradientBoostingRegressor(learning_rate=0.01, max_depth=4, n_estimators=500,\n",
       "                          subsample=0.2)"
      ]
     },
     "execution_count": 51,
     "metadata": {},
     "output_type": "execute_result"
    }
   ],
   "source": [
    "grid_GBR.best_estimator_"
   ]
  },
  {
   "cell_type": "markdown",
   "id": "350c2c4a",
   "metadata": {},
   "source": [
    "seems the earlier model which we created gives good result than the model which we got from the tuning "
   ]
  },
  {
   "cell_type": "code",
   "execution_count": 52,
   "id": "5728f95b",
   "metadata": {},
   "outputs": [
    {
     "data": {
      "text/plain": [
       "0.7569652867594046"
      ]
     },
     "execution_count": 52,
     "metadata": {},
     "output_type": "execute_result"
    }
   ],
   "source": [
    "model_gradient.score(X_test,y_test)"
   ]
  },
  {
   "cell_type": "markdown",
   "id": "71098a05",
   "metadata": {},
   "source": [
    "so random forest regressor is showing good results"
   ]
  },
  {
   "cell_type": "code",
   "execution_count": 53,
   "id": "442daa70",
   "metadata": {},
   "outputs": [],
   "source": [
    "y_predict=model_random.predict(X_test)"
   ]
  },
  {
   "cell_type": "code",
   "execution_count": 54,
   "id": "5749078f",
   "metadata": {},
   "outputs": [
    {
     "data": {
      "text/plain": [
       "array([ 0.96357418,  0.1777896 ,  1.70207204, -0.38704753, -0.80615053,\n",
       "        0.07053375,  0.89808584,  0.89808584, -1.66816177,  1.42420389,\n",
       "       -0.80002998, -0.60898172, -0.63097118, -1.73909605, -0.03749631,\n",
       "       -0.91456234,  0.18136855,  1.54338603, -0.91980515,  0.14627932,\n",
       "       -1.64026752, -1.19353493,  0.44797331,  1.25676569, -1.61034807,\n",
       "       -0.27715888, -1.57151131,  1.70207204,  0.52084411,  0.19742688,\n",
       "       -1.53631117, -1.04997397, -0.14668472, -0.82657436,  0.99547183,\n",
       "       -0.04302985,  1.42420389, -1.60526758,  0.71955049,  0.47792685,\n",
       "        0.30450333,  0.44514007,  0.81128635,  0.00552415,  0.1777896 ,\n",
       "        1.02888048, -0.26219143, -1.07187235,  0.82603951,  0.80348652,\n",
       "        0.96357418,  1.33311885,  0.19277396, -0.01655013, -0.0159434 ,\n",
       "       -1.60526758, -0.01863836, -0.62663817, -0.80615053,  0.89808584,\n",
       "       -0.59331967, -0.97080449, -1.60526758, -1.33965742, -1.50305072,\n",
       "       -1.19353493, -0.72810697,  0.05645394,  0.15685674, -0.72810697,\n",
       "        0.38063206,  0.13115778,  1.54338603,  0.85690681, -0.01793309,\n",
       "        0.31882211,  0.08030806,  0.89836959,  0.26742665, -0.3424021 ,\n",
       "       -0.05959214,  0.89808584, -0.72810697])"
      ]
     },
     "execution_count": 54,
     "metadata": {},
     "output_type": "execute_result"
    }
   ],
   "source": [
    "y_predict"
   ]
  },
  {
   "cell_type": "code",
   "execution_count": 55,
   "id": "2ddde6fd",
   "metadata": {},
   "outputs": [
    {
     "data": {
      "text/plain": [
       "0.7753705391504898"
      ]
     },
     "execution_count": 55,
     "metadata": {},
     "output_type": "execute_result"
    }
   ],
   "source": [
    "np.abs(r2_score(y_test,y_predict))"
   ]
  },
  {
   "cell_type": "code",
   "execution_count": 56,
   "id": "387c4aa1",
   "metadata": {},
   "outputs": [
    {
     "data": {
      "text/plain": [
       "0.45170650702104104"
      ]
     },
     "execution_count": 56,
     "metadata": {},
     "output_type": "execute_result"
    }
   ],
   "source": [
    "np.sqrt(mean_squared_error(y_test,y_predict))"
   ]
  },
  {
   "cell_type": "code",
   "execution_count": null,
   "id": "7eb0740b",
   "metadata": {},
   "outputs": [],
   "source": []
  }
 ],
 "metadata": {
  "kernelspec": {
   "display_name": "Python 3 (ipykernel)",
   "language": "python",
   "name": "python3"
  },
  "language_info": {
   "codemirror_mode": {
    "name": "ipython",
    "version": 3
   },
   "file_extension": ".py",
   "mimetype": "text/x-python",
   "name": "python",
   "nbconvert_exporter": "python",
   "pygments_lexer": "ipython3",
   "version": "3.9.7"
  }
 },
 "nbformat": 4,
 "nbformat_minor": 5
}
